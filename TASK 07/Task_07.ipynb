{
 "cells": [
  {
   "cell_type": "markdown",
   "metadata": {},
   "source": [
    "### Book Class "
   ]
  },
  {
   "cell_type": "code",
   "execution_count": 1,
   "metadata": {},
   "outputs": [],
   "source": [
    "class Book:\n",
    "    def __init__(self, title, author, ISBN):\n",
    "        self.title = title\n",
    "        self.author = author\n",
    "        self.ISBN = ISBN\n",
    "        self.status = 'available'\n",
    "    \n",
    "    def display_info(self):\n",
    "        return f\"Title: {self.title}, Author: {self.author}, ISBN: {self.ISBN}, Status: {self.status}\"\n",
    "    \n",
    "    def mark_as_borrowed(self):\n",
    "        self.status = 'borrowed'\n",
    "    \n",
    "    def mark_as_returned(self):\n",
    "        self.status = 'available'\n"
   ]
  },
  {
   "cell_type": "markdown",
   "metadata": {},
   "source": [
    "### Member Class "
   ]
  },
  {
   "cell_type": "code",
   "execution_count": 2,
   "metadata": {},
   "outputs": [],
   "source": [
    "class Member:\n",
    "    def __init__(self, name, member_id):\n",
    "        self.name = name\n",
    "        self.member_id = member_id\n",
    "        self.borrowed_books = []\n",
    "    \n",
    "    def borrow_book(self, book):\n",
    "        if book.status == 'available':\n",
    "            self.borrowed_books.append(book)\n",
    "            book.mark_as_borrowed()\n",
    "            print(f\"{self.name} borrowed {book.title}\")\n",
    "        else:\n",
    "            print(f\"{book.title} is already borrowed\")\n",
    "    \n",
    "    def return_book(self, book):\n",
    "        if book in self.borrowed_books:\n",
    "            self.borrowed_books.remove(book)\n",
    "            book.mark_as_returned()\n",
    "            print(f\"{self.name} returned {book.title}\")\n",
    "        else:\n",
    "            print(f\"{self.name} does not have {book.title}\")\n",
    "    \n",
    "    def display_info(self):\n",
    "        borrowed_titles = [book.title for book in self.borrowed_books]\n",
    "        return f\"Name: {self.name}, Member ID: {self.member_id}, Borrowed Books: {', '.join(borrowed_titles) if borrowed_titles else 'None'}\"\n"
   ]
  },
  {
   "cell_type": "markdown",
   "metadata": {},
   "source": [
    "### Library Class"
   ]
  },
  {
   "cell_type": "code",
   "execution_count": 3,
   "metadata": {},
   "outputs": [],
   "source": [
    "class Library:\n",
    "    def __init__(self):\n",
    "        self.books = []\n",
    "        self.members = []\n",
    "    \n",
    "    def add_book(self, book):\n",
    "        self.books.append(book)\n",
    "        print(f\"Book added: {book.title}\")\n",
    "    \n",
    "    def register_member(self, member):\n",
    "        self.members.append(member)\n",
    "        print(f\"Member registered: {member.name}\")\n",
    "    \n",
    "    def issue_book(self, member_id, ISBN):\n",
    "        member = next((m for m in self.members if m.member_id == member_id), None)\n",
    "        book = next((b for b in self.books if b.ISBN == ISBN), None)\n",
    "        \n",
    "        if member and book:\n",
    "            member.borrow_book(book)\n",
    "        else:\n",
    "            print(\"Member or Book not found\")\n",
    "    \n",
    "    def return_book(self, member_id, ISBN):\n",
    "        member = next((m for m in self.members if m.member_id == member_id), None)\n",
    "        book = next((b for b in self.books if b.ISBN == ISBN), None)\n",
    "        \n",
    "        if member and book:\n",
    "            member.return_book(book)\n",
    "        else:\n",
    "            print(\"Member or Book not found\")\n",
    "    \n",
    "    def display_all_books(self):\n",
    "        for book in self.books:\n",
    "            print(book.display_info())\n",
    "    \n",
    "    def display_all_members(self):\n",
    "        for member in self.members:\n",
    "            print(member.display_info())\n"
   ]
  },
  {
   "cell_type": "markdown",
   "metadata": {},
   "source": [
    "### Library Managment System "
   ]
  },
  {
   "cell_type": "code",
   "execution_count": 5,
   "metadata": {},
   "outputs": [
    {
     "name": "stdout",
     "output_type": "stream",
     "text": [
      "Book added: The Great Gatsby\n",
      "Book added: 1984\n",
      "Member registered: Rabia\n",
      "Member registered: John\n",
      "Rabia borrowed The Great Gatsby\n",
      "John borrowed 1984\n",
      "All Books:\n",
      "Title: The Great Gatsby, Author: F. Scott Fitzgerald, ISBN: 1234567890, Status: borrowed\n",
      "Title: 1984, Author: George Orwell, ISBN: 2345678901, Status: borrowed\n",
      "\n",
      "All Members:\n",
      "Name: Rabia, Member ID: R001, Borrowed Books: The Great Gatsby\n",
      "Name: John, Member ID: M002, Borrowed Books: 1984\n",
      "Member or Book not found\n",
      "\n",
      "All Books after return:\n",
      "Title: The Great Gatsby, Author: F. Scott Fitzgerald, ISBN: 1234567890, Status: borrowed\n",
      "Title: 1984, Author: George Orwell, ISBN: 2345678901, Status: borrowed\n",
      "\n",
      "All Members after return:\n",
      "Name: Rabia, Member ID: R001, Borrowed Books: The Great Gatsby\n",
      "Name: John, Member ID: M002, Borrowed Books: 1984\n"
     ]
    }
   ],
   "source": [
    "# Create library instance\n",
    "library = Library()\n",
    "\n",
    "# Add books to the library\n",
    "book1 = Book(\"The Great Gatsby\", \"F. Scott Fitzgerald\", \"1234567890\")\n",
    "book2 = Book(\"1984\", \"George Orwell\", \"2345678901\")\n",
    "library.add_book(book1)\n",
    "library.add_book(book2)\n",
    "\n",
    "# Register members\n",
    "member1 = Member(\"Rabia\", \"R001\")\n",
    "member2 = Member(\"John\", \"R002\")\n",
    "library.register_member(member1)\n",
    "library.register_member(member2)\n",
    "\n",
    "# Issue book to members\n",
    "library.issue_book(\"R001\", \"1234567890\")\n",
    "library.issue_book(\"R002\", \"2345678901\")\n",
    "\n",
    "# Display all books\n",
    "print(\"All Books:\")\n",
    "library.display_all_books()\n",
    "\n",
    "# Display all members\n",
    "print(\"\\nAll Members:\")\n",
    "library.display_all_members()\n",
    "\n",
    "# Return book from member\n",
    "library.return_book(\"M001\", \"1234567890\")\n",
    "\n",
    "# Display all books after return\n",
    "print(\"\\nAll Books after return:\")\n",
    "library.display_all_books()\n",
    "\n",
    "# Display all members after return\n",
    "print(\"\\nAll Members after return:\")\n",
    "library.display_all_members()\n"
   ]
  }
 ],
 "metadata": {
  "kernelspec": {
   "display_name": "Python 3",
   "language": "python",
   "name": "python3"
  },
  "language_info": {
   "codemirror_mode": {
    "name": "ipython",
    "version": 3
   },
   "file_extension": ".py",
   "mimetype": "text/x-python",
   "name": "python",
   "nbconvert_exporter": "python",
   "pygments_lexer": "ipython3",
   "version": "3.12.2"
  }
 },
 "nbformat": 4,
 "nbformat_minor": 2
}
