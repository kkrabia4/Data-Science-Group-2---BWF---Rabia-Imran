{
 "cells": [
  {
   "cell_type": "markdown",
   "metadata": {},
   "source": [
    "# MINI PROJECTS ( Task 04 ) "
   ]
  },
  {
   "cell_type": "markdown",
   "metadata": {},
   "source": [
    "#### Simple DMAS Calculator "
   ]
  },
  {
   "cell_type": "code",
   "execution_count": 1,
   "metadata": {},
   "outputs": [],
   "source": [
    "\n",
    "num1 = float(input(\"Enter the first number: \"))\n",
    "num2 = float(input(\"Enter the second number: \"))\n",
    "\n",
    "sum_result = num1 + num2\n",
    "difference_result = num1 - num2\n",
    "product_result = num1 * num2\n",
    "quotient_result = num1 / num2 if num2 != 0 else \"Division by zero error\"\n",
    "\n",
    "print(f\"Sum: {sum_result}\")\n",
    "print(f\"Difference: {difference_result}\")\n",
    "print(f\"Product: {product_result}\")\n",
    "print(f\"Quotient: {quotient_result}\")\n",
    "\n"
   ]
  },
  {
   "cell_type": "markdown",
   "metadata": {},
   "source": [
    "#### Password Generator"
   ]
  },
  {
   "cell_type": "code",
   "execution_count": null,
   "metadata": {},
   "outputs": [],
   "source": [
    "import random \n",
    "import string \n",
    "def generate_passwords(length=8):\n",
    "    characters = string.ascii_letters+string.digits+string.punctuation\n",
    "    password = '' .join(random.choice(characters)for i in range(length))\n",
    "    return password\n",
    "print(generate_passwords())\n"
   ]
  },
  {
   "cell_type": "markdown",
   "metadata": {},
   "source": [
    "#### Quote Generator"
   ]
  },
  {
   "cell_type": "code",
   "execution_count": null,
   "metadata": {},
   "outputs": [],
   "source": [
    "import requests\n",
    "\n",
    "def get_random_quote():\n",
    "    response = requests.get(\"https://api.quotable.io/random\")\n",
    "    data = response.json()\n",
    "    return f\"{data['content']} — {data['author']}\"\n",
    "\n",
    "print(get_random_quote())\n"
   ]
  },
  {
   "cell_type": "markdown",
   "metadata": {},
   "source": [
    "#### Currency Converter (USD To PKR)"
   ]
  },
  {
   "cell_type": "code",
   "execution_count": null,
   "metadata": {},
   "outputs": [],
   "source": [
    "def convert_currency(amount, from_currency, to_currency):\n",
    "    conversion_rates = {\n",
    "        \"USD\": 1.0,\n",
    "        \"EUR\": 0.85,\n",
    "        \"GBP\": 0.72,\n",
    "        \"PKR\": 174.86 \n",
    "    }\n",
    "\n",
    "    if from_currency not in conversion_rates or to_currency not in conversion_rates:\n",
    "        return \"Currency not supported\"\n",
    "   \n",
    "    usd_amount = amount / conversion_rates[from_currency]\n",
    "    converted_amount = usd_amount * conversion_rates[to_currency]\n",
    "\n",
    "    return converted_amount\n",
    "\n",
    "amount = 100  \n",
    "from_currency = 'USD'\n",
    "to_currency = 'PKR'\n",
    "converted_amount = convert_currency(amount, from_currency, to_currency)\n",
    "print(f\"{amount} {from_currency} is equal to {converted_amount:.2f} {to_currency}\")\n"
   ]
  }
 ],
 "metadata": {
  "kernelspec": {
   "display_name": "Python 3",
   "language": "python",
   "name": "python3"
  },
  "language_info": {
   "codemirror_mode": {
    "name": "ipython",
    "version": 3
   },
   "file_extension": ".py",
   "mimetype": "text/x-python",
   "name": "python",
   "nbconvert_exporter": "python",
   "pygments_lexer": "ipython3",
   "version": "3.12.2"
  }
 },
 "nbformat": 4,
 "nbformat_minor": 2
}
