{
 "cells": [
  {
   "cell_type": "markdown",
   "metadata": {},
   "source": [
    "Load a DataFrame from a CSV file"
   ]
  },
  {
   "cell_type": "code",
   "execution_count": 5,
   "metadata": {},
   "outputs": [
    {
     "name": "stdout",
     "output_type": "stream",
     "text": [
      "  Soil_Type  Sunlight_Hours Water_Frequency Fertilizer_Type  Temperature  \\\n",
      "0      loam        5.192294       bi-weekly        chemical    31.719602   \n",
      "1     sandy        4.033133          weekly         organic    28.919484   \n",
      "2      loam        8.892769       bi-weekly            none    23.179059   \n",
      "3      loam        8.241144       bi-weekly            none    18.465886   \n",
      "4     sandy        8.374043       bi-weekly         organic    18.128741   \n",
      "\n",
      "    Humidity  Growth_Milestone  \n",
      "0  61.591861                 0  \n",
      "1  52.422276                 1  \n",
      "2  44.660539                 0  \n",
      "3  46.433227                 0  \n",
      "4  63.625923                 0  \n",
      "    Soil_Type  Sunlight_Hours Water_Frequency Fertilizer_Type  Temperature  \\\n",
      "188     sandy           5.652           daily            none         28.0   \n",
      "189      clay           7.528          weekly        chemical         30.5   \n",
      "190      loam           4.934       bi-weekly            none         24.5   \n",
      "191     sandy           8.273           daily         organic         27.9   \n",
      "192      clay           6.732          weekly            none         21.7   \n",
      "\n",
      "     Humidity  Growth_Milestone  \n",
      "188      70.2                 0  \n",
      "189      60.1                 1  \n",
      "190      61.7                 0  \n",
      "191      69.5                 1  \n",
      "192      56.9                 0  \n"
     ]
    }
   ],
   "source": [
    "import pandas as pd\n",
    "\n",
    "df = pd.read_csv('plant.csv')\n",
    "\n",
    "print(df.head())\n",
    "print(df.tail())\n"
   ]
  },
  {
   "cell_type": "markdown",
   "metadata": {},
   "source": [
    "Set a specific column"
   ]
  },
  {
   "cell_type": "code",
   "execution_count": 7,
   "metadata": {},
   "outputs": [],
   "source": [
    "df.set_index('Temperature', inplace=True)"
   ]
  },
  {
   "cell_type": "markdown",
   "metadata": {},
   "source": [
    "Select a specific column and display its values"
   ]
  },
  {
   "cell_type": "code",
   "execution_count": 11,
   "metadata": {},
   "outputs": [
    {
     "name": "stdout",
     "output_type": "stream",
     "text": [
      "Index(['Soil_Type', 'Sunlight_Hours', 'Water_Frequency', 'Fertilizer_Type',\n",
      "       'Temperature', 'Humidity', 'Growth_Milestone'],\n",
      "      dtype='object')\n"
     ]
    }
   ],
   "source": [
    "print(df.columns)"
   ]
  },
  {
   "cell_type": "code",
   "execution_count": 15,
   "metadata": {},
   "outputs": [
    {
     "name": "stdout",
     "output_type": "stream",
     "text": [
      "0      31.719602\n",
      "1      28.919484\n",
      "2      23.179059\n",
      "3      18.465886\n",
      "4      18.128741\n",
      "         ...    \n",
      "188    28.000000\n",
      "189    30.500000\n",
      "190    24.500000\n",
      "191    27.900000\n",
      "192    21.700000\n",
      "Name: Temperature, Length: 193, dtype: float64\n"
     ]
    }
   ],
   "source": [
    "column_values = df['Temperature']\n",
    "print(column_values)"
   ]
  },
  {
   "cell_type": "markdown",
   "metadata": {},
   "source": [
    "Select multiple columns and display the resulting DataFrame"
   ]
  },
  {
   "cell_type": "code",
   "execution_count": 16,
   "metadata": {},
   "outputs": [
    {
     "name": "stdout",
     "output_type": "stream",
     "text": [
      "      Humidity Soil_Type\n",
      "0    61.591861      loam\n",
      "1    52.422276     sandy\n",
      "2    44.660539      loam\n",
      "3    46.433227      loam\n",
      "4    63.625923     sandy\n",
      "..         ...       ...\n",
      "188  70.200000     sandy\n",
      "189  60.100000      clay\n",
      "190  61.700000      loam\n",
      "191  69.500000     sandy\n",
      "192  56.900000      clay\n",
      "\n",
      "[193 rows x 2 columns]\n"
     ]
    }
   ],
   "source": [
    "selected_columns = df[['Humidity', 'Soil_Type']]\n",
    "print(selected_columns)"
   ]
  },
  {
   "cell_type": "markdown",
   "metadata": {},
   "source": [
    "Select a subset of rows using the .loc method"
   ]
  },
  {
   "cell_type": "code",
   "execution_count": 17,
   "metadata": {},
   "outputs": [
    {
     "name": "stdout",
     "output_type": "stream",
     "text": [
      "  Soil_Type  Sunlight_Hours Water_Frequency Fertilizer_Type  Temperature  \\\n",
      "1     sandy        4.033133          weekly         organic    28.919484   \n",
      "2      loam        8.892769       bi-weekly            none    23.179059   \n",
      "3      loam        8.241144       bi-weekly            none    18.465886   \n",
      "4     sandy        8.374043       bi-weekly         organic    18.128741   \n",
      "5     sandy        8.627622       bi-weekly            none    20.004858   \n",
      "\n",
      "    Humidity  Growth_Milestone  \n",
      "1  52.422276                 1  \n",
      "2  44.660539                 0  \n",
      "3  46.433227                 0  \n",
      "4  63.625923                 0  \n",
      "5  67.618726                 0  \n"
     ]
    }
   ],
   "source": [
    "subset_rows_loc = df.loc[1:5]\n",
    "print(subset_rows_loc)"
   ]
  },
  {
   "cell_type": "markdown",
   "metadata": {},
   "source": [
    "Select a subset of rows and columns using the .iloc method"
   ]
  },
  {
   "cell_type": "code",
   "execution_count": 18,
   "metadata": {},
   "outputs": [
    {
     "name": "stdout",
     "output_type": "stream",
     "text": [
      "  Soil_Type Water_Frequency Fertilizer_Type\n",
      "1     sandy          weekly         organic\n",
      "2      loam       bi-weekly            none\n",
      "3      loam       bi-weekly            none\n",
      "4     sandy       bi-weekly         organic\n"
     ]
    }
   ],
   "source": [
    "subset_rows_cols_iloc = df.iloc[1:5, [0, 2, 3]]\n",
    "print(subset_rows_cols_iloc)"
   ]
  },
  {
   "cell_type": "markdown",
   "metadata": {},
   "source": [
    "Filter rows based on a condition"
   ]
  },
  {
   "cell_type": "code",
   "execution_count": 21,
   "metadata": {},
   "outputs": [
    {
     "name": "stdout",
     "output_type": "stream",
     "text": [
      "    Soil_Type  Sunlight_Hours Water_Frequency Fertilizer_Type  Temperature  \\\n",
      "0        loam        5.192294       bi-weekly        chemical    31.719602   \n",
      "1       sandy        4.033133          weekly         organic    28.919484   \n",
      "2        loam        8.892769       bi-weekly            none    23.179059   \n",
      "5       sandy        8.627622       bi-weekly            none    20.004858   \n",
      "6        loam        4.444268           daily         organic    25.984533   \n",
      "..        ...             ...             ...             ...          ...   \n",
      "188     sandy        5.652000           daily            none    28.000000   \n",
      "189      clay        7.528000          weekly        chemical    30.500000   \n",
      "190      loam        4.934000       bi-weekly            none    24.500000   \n",
      "191     sandy        8.273000           daily         organic    27.900000   \n",
      "192      clay        6.732000          weekly            none    21.700000   \n",
      "\n",
      "      Humidity  Growth_Milestone  \n",
      "0    61.591861                 0  \n",
      "1    52.422276                 1  \n",
      "2    44.660539                 0  \n",
      "5    67.618726                 0  \n",
      "6    69.578952                 1  \n",
      "..         ...               ...  \n",
      "188  70.200000                 0  \n",
      "189  60.100000                 1  \n",
      "190  61.700000                 0  \n",
      "191  69.500000                 1  \n",
      "192  56.900000                 0  \n",
      "\n",
      "[152 rows x 7 columns]\n"
     ]
    }
   ],
   "source": [
    "filtered_rows = df[df['Temperature'] > 20]\n",
    "print(filtered_rows)"
   ]
  },
  {
   "cell_type": "markdown",
   "metadata": {},
   "source": [
    "Group the DataFrame by a specific column and calculate the mean of each group"
   ]
  },
  {
   "cell_type": "code",
   "execution_count": 26,
   "metadata": {},
   "outputs": [],
   "source": [
    "data = {\n",
    "    'Temperature': [25, 30, 30, 35, 35, 40],\n",
    "    'Humidity': [30, 45, 45, 50, 50, 60],\n",
    "    'Value': [10, 20, 30, 40, 50, 60]\n",
    "}\n",
    "\n",
    "df = pd.DataFrame(data)\n",
    "\n",
    "\n"
   ]
  },
  {
   "cell_type": "code",
   "execution_count": 27,
   "metadata": {},
   "outputs": [
    {
     "name": "stdout",
     "output_type": "stream",
     "text": [
      "Original DataFrame:\n",
      "    Temperature  Humidity  Value\n",
      "0           25        30     10\n",
      "1           30        45     20\n",
      "2           30        45     30\n",
      "3           35        50     40\n",
      "4           35        50     50\n",
      "5           40        60     60\n",
      "\n",
      "Grouped Mean DataFrame:\n",
      "                       Value\n",
      "Temperature Humidity       \n",
      "25          30         10.0\n",
      "30          45         25.0\n",
      "35          50         45.0\n",
      "40          60         60.0\n"
     ]
    }
   ],
   "source": [
    "print(\"Original DataFrame:\\n\", df)\n",
    "grouped_mean = df.groupby(['Temperature', 'Humidity']).mean()\n",
    "print(\"\\nGrouped Mean DataFrame:\\n\", grouped_mean)"
   ]
  },
  {
   "cell_type": "markdown",
   "metadata": {},
   "source": [
    "Use the agg method to apply multiple aggregation functions to grouped data:"
   ]
  },
  {
   "cell_type": "code",
   "execution_count": 34,
   "metadata": {},
   "outputs": [],
   "source": [
    "data = {\n",
    "    'Temperature': [25, 30, 30, 35, 35, 40],\n",
    "    'Humidity': [30, 45, 45, 50, 50, 60],\n",
    "    'Value1': [10, 20, 30, 40, 50, 60],\n",
    "    'Value2': [5, 15, 25, 35, 45, 55]\n",
    "}\n",
    "\n",
    "df = pd.DataFrame(data)\n"
   ]
  },
  {
   "cell_type": "code",
   "execution_count": 32,
   "metadata": {},
   "outputs": [
    {
     "name": "stdout",
     "output_type": "stream",
     "text": [
      "Original DataFrame:\n",
      "    Temperature  Humidity  Value1  Value2\n",
      "0           25        30      10       5\n",
      "1           30        45      20      15\n",
      "2           30        45      30      25\n",
      "3           35        50      40      35\n",
      "4           35        50      50      45\n",
      "5           40        60      60      55\n",
      "\n",
      "Grouped DataFrame with Multiple Aggregations:\n",
      "                      Value1     Value2\n",
      "                       mean sum    min\n",
      "Temperature Humidity                  \n",
      "25          30         10.0  10      5\n",
      "30          45         25.0  50     15\n",
      "35          50         45.0  90     35\n",
      "40          60         60.0  60     55\n"
     ]
    }
   ],
   "source": [
    "\n",
    "print(\"Original DataFrame:\\n\", df)\n",
    "\n",
    "grouped_agg = df.groupby(['Temperature', 'Humidity']).agg({\n",
    "    'Value1': ['mean', 'sum'],\n",
    "    'Value2': 'min'\n",
    "})\n",
    "\n",
    "print(\"\\nGrouped DataFrame with Multiple Aggregations:\\n\", grouped_agg)"
   ]
  },
  {
   "cell_type": "markdown",
   "metadata": {},
   "source": [
    "gCalculate the size of each group"
   ]
  },
  {
   "cell_type": "code",
   "execution_count": 36,
   "metadata": {},
   "outputs": [
    {
     "name": "stdout",
     "output_type": "stream",
     "text": [
      "Temperature\n",
      "25    1\n",
      "30    2\n",
      "35    2\n",
      "40    1\n",
      "dtype: int64\n"
     ]
    }
   ],
   "source": [
    "group_size = df.groupby('Temperature').size()\n",
    "print(group_size)"
   ]
  },
  {
   "cell_type": "markdown",
   "metadata": {},
   "source": [
    "Select rows based on multiple conditions"
   ]
  },
  {
   "cell_type": "code",
   "execution_count": 37,
   "metadata": {},
   "outputs": [
    {
     "name": "stdout",
     "output_type": "stream",
     "text": [
      "Empty DataFrame\n",
      "Columns: [Temperature, Humidity, Value1, Value2]\n",
      "Index: []\n"
     ]
    }
   ],
   "source": [
    "multiple_conditions = df[(df['Temperature'] > 20) & (df['Humidity'] < 30)]\n",
    "print(multiple_conditions)"
   ]
  },
  {
   "cell_type": "markdown",
   "metadata": {},
   "source": [
    "Use the query method to filter rows:\n"
   ]
  },
  {
   "cell_type": "code",
   "execution_count": 38,
   "metadata": {},
   "outputs": [
    {
     "name": "stdout",
     "output_type": "stream",
     "text": [
      "Empty DataFrame\n",
      "Columns: [Temperature, Humidity, Value1, Value2]\n",
      "Index: []\n"
     ]
    }
   ],
   "source": [
    "filtered_query = df.query('Temperature > 20 and Humidity < 30')\n",
    "print(filtered_query)\n"
   ]
  },
  {
   "cell_type": "markdown",
   "metadata": {},
   "source": [
    "Use isin to filter rows based on a list of values"
   ]
  },
  {
   "cell_type": "code",
   "execution_count": 40,
   "metadata": {},
   "outputs": [
    {
     "name": "stdout",
     "output_type": "stream",
     "text": [
      "   Temperature  Humidity  Value1  Value2\n",
      "1           30        45      20      15\n",
      "2           30        45      30      25\n",
      "5           40        60      60      55\n"
     ]
    }
   ],
   "source": [
    "filtered_isin = df[df['Temperature'].isin([20, 30, 40])]\n",
    "print(filtered_isin)\n"
   ]
  },
  {
   "cell_type": "markdown",
   "metadata": {},
   "source": [
    "Select specific columns and rename them"
   ]
  },
  {
   "cell_type": "code",
   "execution_count": 42,
   "metadata": {},
   "outputs": [
    {
     "name": "stdout",
     "output_type": "stream",
     "text": [
      "   Temp  humity\n",
      "0    25      30\n",
      "1    30      45\n",
      "2    30      45\n",
      "3    35      50\n",
      "4    35      50\n",
      "5    40      60\n"
     ]
    }
   ],
   "source": [
    "selected_renamed = df[['Temperature', 'Humidity']].rename(columns={'Temperature': 'Temp', 'Humidity': 'humity'})\n",
    "print(selected_renamed)\n"
   ]
  }
 ],
 "metadata": {
  "kernelspec": {
   "display_name": "Python 3",
   "language": "python",
   "name": "python3"
  },
  "language_info": {
   "codemirror_mode": {
    "name": "ipython",
    "version": 3
   },
   "file_extension": ".py",
   "mimetype": "text/x-python",
   "name": "python",
   "nbconvert_exporter": "python",
   "pygments_lexer": "ipython3",
   "version": "3.12.2"
  }
 },
 "nbformat": 4,
 "nbformat_minor": 2
}
