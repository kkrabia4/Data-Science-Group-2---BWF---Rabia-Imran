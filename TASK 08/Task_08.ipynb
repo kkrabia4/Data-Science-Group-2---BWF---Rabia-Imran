{
 "cells": [
  {
   "cell_type": "markdown",
   "metadata": {},
   "source": [
    "### Implementation"
   ]
  },
  {
   "cell_type": "code",
   "execution_count": 1,
   "metadata": {},
   "outputs": [],
   "source": [
    "# Define Data Structures\n",
    "products = {}  # Dictionary to store product details\n",
    "product_order = []  # List to maintain the order of product additions\n",
    "categories = set()  # Set to track unique categories\n",
    "\n",
    "def add_product(product_id, name, category, stock):\n",
    "    if product_id in products:\n",
    "        print(f\"Product ID {product_id} already exists.\")\n",
    "        return\n",
    "    \n",
    "    # Add product details to dictionary\n",
    "    products[product_id] = {\n",
    "        'info': (name, category),  # Tuple to store product name and category\n",
    "        'stock': stock\n",
    "    }\n",
    "    \n",
    "    # Add product ID to the order list\n",
    "    product_order.append(product_id)\n",
    "    \n",
    "    # Add category to the set of categories\n",
    "    categories.add(category)\n",
    "    \n",
    "    print(f\"Product {name} added.\")\n",
    "\n",
    "def update_stock(product_id, quantity):\n",
    "    if product_id not in products:\n",
    "        print(f\"Product ID {product_id} not found.\")\n",
    "        return\n",
    "    \n",
    "    # Update stock level\n",
    "    products[product_id]['stock'] += quantity\n",
    "    print(f\"Stock updated for product ID {product_id}.\")\n",
    "\n",
    "def display_products():\n",
    "    for product_id in product_order:\n",
    "        name, category = products[product_id]['info']\n",
    "        stock = products[product_id]['stock']\n",
    "        print(f\"ID: {product_id}, Name: {name}, Category: {category}, Stock: {stock}\")\n",
    "\n",
    "def display_by_category(category):\n",
    "    for product_id in product_order:\n",
    "        name, prod_category = products[product_id]['info']\n",
    "        if prod_category == category:\n",
    "            stock = products[product_id]['stock']\n",
    "            print(f\"ID: {product_id}, Name: {name}, Category: {category}, Stock: {stock}\")\n"
   ]
  },
  {
   "cell_type": "markdown",
   "metadata": {},
   "source": [
    "### Testing"
   ]
  },
  {
   "cell_type": "code",
   "execution_count": 2,
   "metadata": {},
   "outputs": [
    {
     "name": "stdout",
     "output_type": "stream",
     "text": [
      "Product Product1 added.\n",
      "Product Product2 added.\n",
      "Product Product3 added.\n",
      "Stock updated for product ID ID001.\n",
      "Stock updated for product ID ID002.\n",
      "\n",
      "All Products:\n",
      "ID: ID001, Name: Product1, Category: Category1, Stock: 60\n",
      "ID: ID002, Name: Product2, Category: Category2, Stock: 25\n",
      "ID: ID003, Name: Product3, Category: Category1, Stock: 20\n",
      "\n",
      "Products in Category1:\n",
      "ID: ID001, Name: Product1, Category: Category1, Stock: 60\n",
      "ID: ID003, Name: Product3, Category: Category1, Stock: 20\n",
      "\n",
      "Products in Category2:\n",
      "ID: ID002, Name: Product2, Category: Category2, Stock: 25\n"
     ]
    }
   ],
   "source": [
    "# Add multiple products\n",
    "add_product(\"ID001\", \"Product1\", \"Category1\", 50)\n",
    "add_product(\"ID002\", \"Product2\", \"Category2\", 30)\n",
    "add_product(\"ID003\", \"Product3\", \"Category1\", 20)\n",
    "\n",
    "# Update stock levels\n",
    "update_stock(\"ID001\", 10)\n",
    "update_stock(\"ID002\", -5)\n",
    "\n",
    "# Display all products\n",
    "print(\"\\nAll Products:\")\n",
    "display_products()\n",
    "\n",
    "# Display products by category\n",
    "print(\"\\nProducts in Category1:\")\n",
    "display_by_category(\"Category1\")\n",
    "\n",
    "print(\"\\nProducts in Category2:\")\n",
    "display_by_category(\"Category2\")\n"
   ]
  }
 ],
 "metadata": {
  "kernelspec": {
   "display_name": "Python 3",
   "language": "python",
   "name": "python3"
  },
  "language_info": {
   "codemirror_mode": {
    "name": "ipython",
    "version": 3
   },
   "file_extension": ".py",
   "mimetype": "text/x-python",
   "name": "python",
   "nbconvert_exporter": "python",
   "pygments_lexer": "ipython3",
   "version": "3.12.2"
  }
 },
 "nbformat": 4,
 "nbformat_minor": 2
}
