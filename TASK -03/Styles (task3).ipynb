{
 "cells": [
  {
   "cell_type": "markdown",
   "metadata": {},
   "source": [
    "# Heading Styles\n",
    "##### Notebook\n",
    "#### Notebook\n",
    "### Notebook\n",
    "## Notebook \n",
    "# Notebook"
   ]
  },
  {
   "cell_type": "markdown",
   "metadata": {},
   "source": [
    "*  Unordered list \n",
    "    + line 1\n",
    "    - line 2"
   ]
  },
  {
   "cell_type": "markdown",
   "metadata": {},
   "source": [
    "1. ordered list \n",
    "     1. line 1\n",
    "     2. line 2\n",
    "2. paragraph"
   ]
  },
  {
   "cell_type": "markdown",
   "metadata": {},
   "source": [
    "# Adding Tables in Notebook"
   ]
  },
  {
   "cell_type": "markdown",
   "metadata": {},
   "source": [
    "| Column 01 | Column 02 |\n",
    "|:-------------|:--------------:|\n",
    "| Row 1        | Data Science         | \n",
    "| Row 2        | Machine Learning       | \n",
    "| Row 3        | Artificial Intelligence        | \n"
   ]
  }
 ],
 "metadata": {
  "language_info": {
   "name": "python"
  }
 },
 "nbformat": 4,
 "nbformat_minor": 2
}
