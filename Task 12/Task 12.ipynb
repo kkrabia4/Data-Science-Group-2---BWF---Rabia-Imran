{
 "cells": [
  {
   "cell_type": "markdown",
   "metadata": {},
   "source": [
    "Import Library "
   ]
  },
  {
   "cell_type": "code",
   "execution_count": 1,
   "metadata": {},
   "outputs": [],
   "source": [
    "import pandas as pd \n",
    "import numpy as np "
   ]
  },
  {
   "cell_type": "markdown",
   "metadata": {},
   "source": [
    "# Dictionary "
   ]
  },
  {
   "cell_type": "markdown",
   "metadata": {},
   "source": [
    "from python\n"
   ]
  },
  {
   "cell_type": "code",
   "execution_count": 2,
   "metadata": {},
   "outputs": [
    {
     "name": "stdout",
     "output_type": "stream",
     "text": [
      "Series from list:\n",
      " 0    10\n",
      "1    20\n",
      "2    30\n",
      "3    40\n",
      "4    50\n",
      "dtype: int64\n"
     ]
    }
   ],
   "source": [
    "python_list = [10, 20, 30, 40, 50]\n",
    "series_from_list = pd.Series(python_list)\n",
    "print(\"Series from list:\\n\", series_from_list)"
   ]
  },
  {
   "cell_type": "markdown",
   "metadata": {},
   "source": [
    "From numpy "
   ]
  },
  {
   "cell_type": "code",
   "execution_count": 3,
   "metadata": {},
   "outputs": [
    {
     "name": "stdout",
     "output_type": "stream",
     "text": [
      "\n",
      "Series from numpy array:\n",
      " 0    1\n",
      "1    2\n",
      "2    3\n",
      "3    4\n",
      "4    5\n",
      "dtype: int32\n"
     ]
    }
   ],
   "source": [
    "numpy_array = np.array([1, 2, 3, 4, 5])\n",
    "series_from_array = pd.Series(numpy_array)\n",
    "print(\"\\nSeries from numpy array:\\n\", series_from_array)"
   ]
  },
  {
   "cell_type": "markdown",
   "metadata": {},
   "source": [
    "From Dictionary "
   ]
  },
  {
   "cell_type": "code",
   "execution_count": 4,
   "metadata": {},
   "outputs": [
    {
     "name": "stdout",
     "output_type": "stream",
     "text": [
      "\n",
      "Series from dictionary:\n",
      " a    100\n",
      "b    200\n",
      "c    300\n",
      "dtype: int64\n"
     ]
    }
   ],
   "source": [
    "dictionary = {'a': 100, 'b': 200, 'c': 300}\n",
    "series_from_dict = pd.Series(dictionary)\n",
    "print(\"\\nSeries from dictionary:\\n\", series_from_dict)"
   ]
  },
  {
   "cell_type": "markdown",
   "metadata": {},
   "source": [
    "### Questions"
   ]
  },
  {
   "cell_type": "markdown",
   "metadata": {},
   "source": [
    "Assign a custom index to the Series."
   ]
  },
  {
   "cell_type": "code",
   "execution_count": 5,
   "metadata": {},
   "outputs": [
    {
     "name": "stdout",
     "output_type": "stream",
     "text": [
      "\n",
      "Series with custom index:\n",
      " A    10\n",
      "B    20\n",
      "C    30\n",
      "D    40\n",
      "E    50\n",
      "dtype: int64\n"
     ]
    }
   ],
   "source": [
    "custom_index_series = pd.Series(python_list, index=['A', 'B', 'C', 'D', 'E'])\n",
    "print(\"\\nSeries with custom index:\\n\", custom_index_series)\n"
   ]
  },
  {
   "cell_type": "markdown",
   "metadata": {},
   "source": [
    "Perform basic arithmetic operations on Series."
   ]
  },
  {
   "cell_type": "code",
   "execution_count": 6,
   "metadata": {},
   "outputs": [
    {
     "name": "stdout",
     "output_type": "stream",
     "text": [
      "\n",
      "Sum of Series:\n",
      " 0    11\n",
      "1    22\n",
      "2    33\n",
      "3    44\n",
      "4    55\n",
      "dtype: int64\n",
      "\n",
      "Difference of Series:\n",
      " 0     9\n",
      "1    18\n",
      "2    27\n",
      "3    36\n",
      "4    45\n",
      "dtype: int64\n"
     ]
    }
   ],
   "source": [
    "series_1 = pd.Series([1, 2, 3, 4, 5])\n",
    "series_2 = pd.Series([10, 20, 30, 40, 50])\n",
    "\n",
    "sum_series = series_1 + series_2\n",
    "print(\"\\nSum of Series:\\n\", sum_series)\n",
    "\n",
    "diff_series = series_2 - series_1\n",
    "print(\"\\nDifference of Series:\\n\", diff_series)\n"
   ]
  },
  {
   "cell_type": "markdown",
   "metadata": {},
   "source": [
    "Access elements using index labels and positions."
   ]
  },
  {
   "cell_type": "code",
   "execution_count": 7,
   "metadata": {},
   "outputs": [
    {
     "name": "stdout",
     "output_type": "stream",
     "text": [
      "\n",
      "Element at index 'B': 20\n",
      "\n",
      "Element at position 2: 30\n"
     ]
    }
   ],
   "source": [
    "print(\"\\nElement at index 'B':\", custom_index_series['B'])\n",
    "print(\"\\nElement at position 2:\", custom_index_series.iloc[2])\n"
   ]
  },
  {
   "cell_type": "markdown",
   "metadata": {},
   "source": [
    "Filter the Series to include only values greater than a specific threshold."
   ]
  },
  {
   "cell_type": "code",
   "execution_count": 8,
   "metadata": {},
   "outputs": [
    {
     "name": "stdout",
     "output_type": "stream",
     "text": [
      "\n",
      "Filtered Series (values > 30):\n",
      " D    40\n",
      "E    50\n",
      "dtype: int64\n"
     ]
    }
   ],
   "source": [
    "filtered_series = custom_index_series[custom_index_series > 30]\n",
    "print(\"\\nFiltered Series (values > 30):\\n\", filtered_series)\n"
   ]
  },
  {
   "cell_type": "markdown",
   "metadata": {},
   "source": [
    "Create a DataFrame from a dictionary of lists."
   ]
  },
  {
   "cell_type": "code",
   "execution_count": 9,
   "metadata": {},
   "outputs": [
    {
     "name": "stdout",
     "output_type": "stream",
     "text": [
      "\n",
      "DataFrame from dictionary of lists:\n",
      "       Name  Age         City\n",
      "0    Alice   25     New York\n",
      "1      Bob   30  Los Angeles\n",
      "2  Charlie   35      Chicago\n"
     ]
    }
   ],
   "source": [
    "data = {\n",
    "    'Name': ['Alice', 'Bob', 'Charlie'],\n",
    "    'Age': [25, 30, 35],\n",
    "    'City': ['New York', 'Los Angeles', 'Chicago']\n",
    "}\n",
    "df_from_dict = pd.DataFrame(data)\n",
    "print(\"\\nDataFrame from dictionary of lists:\\n\", df_from_dict)\n"
   ]
  },
  {
   "cell_type": "markdown",
   "metadata": {},
   "source": [
    "Create a DataFrame from a numpy array, specifying column and index names.\n"
   ]
  },
  {
   "cell_type": "code",
   "execution_count": 10,
   "metadata": {},
   "outputs": [
    {
     "name": "stdout",
     "output_type": "stream",
     "text": [
      "\n",
      "DataFrame from numpy array:\n",
      "    A  B  C\n",
      "X  1  2  3\n",
      "Y  4  5  6\n",
      "Z  7  8  9\n"
     ]
    }
   ],
   "source": [
    "numpy_data = np.array([[1, 2, 3], [4, 5, 6], [7, 8, 9]])\n",
    "df_from_array = pd.DataFrame(numpy_data, columns=['A', 'B', 'C'], index=['X', 'Y', 'Z'])\n",
    "print(\"\\nDataFrame from numpy array:\\n\", df_from_array)\n"
   ]
  },
  {
   "cell_type": "markdown",
   "metadata": {},
   "source": [
    "Load a DataFrame from a CSV file.\n"
   ]
  },
  {
   "cell_type": "code",
   "execution_count": 11,
   "metadata": {},
   "outputs": [
    {
     "name": "stdout",
     "output_type": "stream",
     "text": [
      "\n",
      "DataFrame from CSV:\n",
      "    Id   Name    Age   Grade \n",
      "0    1  jake       3       B\n",
      "1    2   jake     21       A\n",
      "2    3  rabia     21       B\n",
      "3    4   john     18       C\n"
     ]
    }
   ],
   "source": [
    "\n",
    "df_from_csv = pd.read_csv('myfile.csv')\n",
    "print(\"\\nDataFrame from CSV:\\n\", df_from_csv)\n",
    "\n",
    "\n"
   ]
  },
  {
   "cell_type": "markdown",
   "metadata": {},
   "source": [
    "Display the first and last five rows of the DataFrame"
   ]
  },
  {
   "cell_type": "code",
   "execution_count": 12,
   "metadata": {},
   "outputs": [
    {
     "name": "stdout",
     "output_type": "stream",
     "text": [
      "\n",
      "First two rows of the DataFrame:\n",
      "    Id   Name    Age   Grade \n",
      "0    1  jake       3       B\n",
      "1    2   jake     21       A\n",
      "\n",
      "Last two rows of the DataFrame:\n",
      "    Id   Name    Age   Grade \n",
      "2    3  rabia     21       B\n",
      "3    4   john     18       C\n"
     ]
    }
   ],
   "source": [
    "print(\"\\nFirst two rows of the DataFrame:\\n\", df_from_csv.head(2))\n",
    "print(\"\\nLast two rows of the DataFrame:\\n\", df_from_csv.tail(2))\n"
   ]
  },
  {
   "cell_type": "markdown",
   "metadata": {},
   "source": [
    "Get a summary of the DataFrame including the mean, median, and standard deviation of numeric columns"
   ]
  },
  {
   "cell_type": "code",
   "execution_count": 13,
   "metadata": {},
   "outputs": [
    {
     "name": "stdout",
     "output_type": "stream",
     "text": [
      "\n",
      "Summary of DataFrame:\n",
      "             Id        Age \n",
      "count  4.000000   4.000000\n",
      "mean   2.500000  15.750000\n",
      "std    1.290994   8.616844\n",
      "min    1.000000   3.000000\n",
      "25%    1.750000  14.250000\n",
      "50%    2.500000  19.500000\n",
      "75%    3.250000  21.000000\n",
      "max    4.000000  21.000000\n"
     ]
    }
   ],
   "source": [
    "summary = df_from_csv.describe()\n",
    "print(\"\\nSummary of DataFrame:\\n\", summary)"
   ]
  },
  {
   "cell_type": "code",
   "execution_count": 14,
   "metadata": {},
   "outputs": [
    {
     "name": "stdout",
     "output_type": "stream",
     "text": [
      "\n",
      "Mean values:\n",
      " Id        2.50\n",
      " Age     15.75\n",
      "dtype: float64\n",
      "\n",
      "Median values:\n",
      " Id        2.5\n",
      " Age     19.5\n",
      "dtype: float64\n",
      "\n",
      "Standard deviation values:\n",
      " Id       1.290994\n",
      " Age     8.616844\n",
      "dtype: float64\n"
     ]
    }
   ],
   "source": [
    "mean_values = df_from_csv.mean(numeric_only=True)\n",
    "median_values = df_from_csv.median(numeric_only=True)\n",
    "std_dev_values = df_from_csv.std(numeric_only=True)\n",
    "\n",
    "print(\"\\nMean values:\\n\", mean_values)\n",
    "print(\"\\nMedian values:\\n\", median_values)\n",
    "print(\"\\nStandard deviation values:\\n\", std_dev_values)"
   ]
  },
  {
   "cell_type": "markdown",
   "metadata": {},
   "source": [
    "Check column names"
   ]
  },
  {
   "cell_type": "code",
   "execution_count": 15,
   "metadata": {},
   "outputs": [
    {
     "name": "stdout",
     "output_type": "stream",
     "text": [
      "\n",
      "Columns in the DataFrame: Index(['Id ', ' Name ', ' Age ', ' Grade '], dtype='object')\n"
     ]
    }
   ],
   "source": [
    "print(\"\\nColumns in the DataFrame:\", df_from_csv.columns)\n"
   ]
  },
  {
   "cell_type": "markdown",
   "metadata": {},
   "source": [
    "Extract Column Age From data"
   ]
  },
  {
   "cell_type": "code",
   "execution_count": 16,
   "metadata": {},
   "outputs": [
    {
     "name": "stdout",
     "output_type": "stream",
     "text": [
      "\n",
      "DataFrame from CSV file:\n",
      "    Id   Name    Age   Grade \n",
      "0    1  jake       3       B\n",
      "1    2   jake     21       A\n",
      "2    3  rabia     21       B\n",
      "3    4   john     18       C\n",
      "\n",
      "Columns in the DataFrame: Index(['Id ', ' Name ', ' Age ', ' Grade '], dtype='object')\n",
      "Column name: 'Id'\n",
      "Column name: 'Name'\n",
      "Column name: 'Age'\n",
      "Column name: 'Grade'\n",
      "\n",
      "Extracted 'Age' column as Series:\n",
      " 0     3\n",
      "1    21\n",
      "2    21\n",
      "3    18\n",
      "Name: Age, dtype: int64\n"
     ]
    }
   ],
   "source": [
    "df_from_csv = pd.read_csv('myfile.csv')\n",
    "print(\"\\nDataFrame from CSV file:\\n\", df_from_csv)\n",
    "\n",
    "print(\"\\nColumns in the DataFrame:\", df_from_csv.columns)\n",
    "\n",
    "df_from_csv.columns = df_from_csv.columns.str.strip()\n",
    "\n",
    "\n",
    "for col in df_from_csv.columns:\n",
    "    print(f\"Column name: '{col}'\")\n",
    "\n",
    "\n",
    "try:\n",
    "    specific_column = df_from_csv['Age']  \n",
    "    print(\"\\nExtracted 'Age' column as Series:\\n\", specific_column)\n",
    "except KeyError as e:\n",
    "    print(f\"\\nError: {e}. Column not found in DataFrame.\")\n"
   ]
  },
  {
   "cell_type": "markdown",
   "metadata": {},
   "source": [
    "Filter rows based on column values"
   ]
  },
  {
   "cell_type": "code",
   "execution_count": 17,
   "metadata": {},
   "outputs": [
    {
     "name": "stdout",
     "output_type": "stream",
     "text": [
      "\n",
      "DataFrame from CSV file:\n",
      "    Id   Name    Age   Grade \n",
      "0    1  jake       3       B\n",
      "1    2   jake     21       A\n",
      "2    3  rabia     21       B\n",
      "3    4   john     18       C\n",
      "\n",
      "Columns in the DataFrame: Index(['Id ', ' Name ', ' Age ', ' Grade '], dtype='object')\n",
      "Column name: 'Id'\n",
      "Column name: 'Name'\n",
      "Column name: 'Age'\n",
      "Column name: 'Grade'\n",
      "\n",
      "Extracted 'Age' column as Series:\n",
      " 0     3\n",
      "1    21\n",
      "2    21\n",
      "3    18\n",
      "Name: Age, dtype: int64\n",
      "\n",
      "Filtered rows (Age > 30):\n",
      " Empty DataFrame\n",
      "Columns: [Id, Name, Age, Grade]\n",
      "Index: []\n"
     ]
    }
   ],
   "source": [
    "\n",
    "\n",
    "df_from_csv = pd.read_csv('myfile.csv')\n",
    "print(\"\\nDataFrame from CSV file:\\n\", df_from_csv)\n",
    "\n",
    "print(\"\\nColumns in the DataFrame:\", df_from_csv.columns)\n",
    "\n",
    "df_from_csv.columns = df_from_csv.columns.str.strip()\n",
    "\n",
    "for col in df_from_csv.columns:\n",
    "    print(f\"Column name: '{col}'\")\n",
    "\n",
    "try:\n",
    "    specific_column = df_from_csv['Age']  \n",
    "    print(\"\\nExtracted 'Age' column as Series:\\n\", specific_column)\n",
    "except KeyError as e:\n",
    "    print(f\"\\nError: {e}. Column not found in DataFrame.\")\n",
    "\n",
    "threshold = 30  \n",
    "try:\n",
    "    filtered_rows = df_from_csv[df_from_csv['Age'] > threshold]\n",
    "    print(f\"\\nFiltered rows (Age > {threshold}):\\n\", filtered_rows)\n",
    "except KeyError as e:\n",
    "    print(f\"\\nError: {e}. Column not found in DataFrame.\")\n",
    "\n"
   ]
  },
  {
   "cell_type": "markdown",
   "metadata": {},
   "source": [
    "Select rows based on multiple conditions"
   ]
  },
  {
   "cell_type": "code",
   "execution_count": 18,
   "metadata": {},
   "outputs": [
    {
     "name": "stdout",
     "output_type": "stream",
     "text": [
      "\n",
      "DataFrame from CSV file:\n",
      "    Id   Name    Age   Grade \n",
      "0    1  jake       3       B\n",
      "1    2   jake     21       A\n",
      "2    3  rabia     21       B\n",
      "3    4   john     18       C\n",
      "\n",
      "Columns in the DataFrame: Index(['Id ', ' Name ', ' Age ', ' Grade '], dtype='object')\n",
      "Column name: 'Id'\n",
      "Column name: 'Name'\n",
      "Column name: 'Age'\n",
      "Column name: 'Grade'\n",
      "\n",
      "Filtered rows based on multiple conditions (Age > 25 and Grade != 'D'):\n",
      " Empty DataFrame\n",
      "Columns: [Id, Name, Age, Grade]\n",
      "Index: []\n"
     ]
    }
   ],
   "source": [
    "df_from_csv = pd.read_csv('myfile.csv')\n",
    "print(\"\\nDataFrame from CSV file:\\n\", df_from_csv)\n",
    "\n",
    "print(\"\\nColumns in the DataFrame:\", df_from_csv.columns)\n",
    "\n",
    "df_from_csv.columns = df_from_csv.columns.str.strip()\n",
    "\n",
    "for col in df_from_csv.columns:\n",
    "    print(f\"Column name: '{col}'\")\n",
    "\n",
    "try:\n",
    "    age_condition = df_from_csv['Age'] > 25  \n",
    "    city_condition = df_from_csv['Grade'] != 'D'  \n",
    "\n",
    "    \n",
    "    filtered_rows_multi = df_from_csv[age_condition & city_condition]\n",
    "    print(\"\\nFiltered rows based on multiple conditions (Age > 25 and Grade != 'D'):\\n\", filtered_rows_multi)\n",
    "except KeyError as e:\n",
    "    print(f\"\\nError: {e}. Column not found in DataFrame.\")\n"
   ]
  },
  {
   "cell_type": "markdown",
   "metadata": {},
   "source": [
    "Add a column to Dataframe"
   ]
  },
  {
   "cell_type": "code",
   "execution_count": 33,
   "metadata": {},
   "outputs": [
    {
     "name": "stdout",
     "output_type": "stream",
     "text": [
      "   Id   Name    Age   Grade     Subject\n",
      "0    1  jake       3       B      Maths\n",
      "1    2   jake     21       A  Chemistry\n",
      "2    3  rabia     21       B    Physics\n",
      "3    4   john     18       C      Maths\n"
     ]
    }
   ],
   "source": [
    "\n",
    "df = pd.read_csv('myfile.csv')\n",
    "subjects = ['Maths', 'Chemistry', 'Physics']\n",
    "df['Subject'] = subjects * (len(df) // len(subjects)) + subjects[:len(df) % len(subjects)]\n",
    "\n",
    "print(df)\n",
    "\n",
    "df.to_csv('updated_file.csv', index=False) \n",
    "\n"
   ]
  },
  {
   "cell_type": "markdown",
   "metadata": {},
   "source": [
    "Delete a column"
   ]
  },
  {
   "cell_type": "code",
   "execution_count": 34,
   "metadata": {},
   "outputs": [
    {
     "name": "stdout",
     "output_type": "stream",
     "text": [
      "Index(['Id ', ' Name ', ' Age ', ' Grade ', 'Subject'], dtype='object')\n"
     ]
    }
   ],
   "source": [
    "print(df.columns)\n"
   ]
  },
  {
   "cell_type": "code",
   "execution_count": 35,
   "metadata": {},
   "outputs": [
    {
     "name": "stdout",
     "output_type": "stream",
     "text": [
      "DataFrame columns:\n",
      "Index(['Id ', ' Name ', ' Age ', ' Grade '], dtype='object')\n",
      "\n",
      "'subject' column not found in DataFrame.\n",
      "\n",
      "DataFrame after deletion:\n",
      "   Id   Name    Age   Grade \n",
      "0    1  jake       3       B\n",
      "1    2   jake     21       A\n",
      "2    3  rabia     21       B\n",
      "3    4   john     18       C\n"
     ]
    }
   ],
   "source": [
    "df = pd.read_csv('myfile.csv')\n",
    "\n",
    "print(\"DataFrame columns:\")\n",
    "print(df.columns)\n",
    "\n",
    "if 'subject' in df.columns:\n",
    "   \n",
    "    df.drop(columns=['subject'], inplace=True)\n",
    "    print(\"\\n'subject' column deleted successfully.\")\n",
    "else:\n",
    "    print(\"\\n'subject' column not found in DataFrame.\")\n",
    "\n",
    "\n",
    "print(\"\\nDataFrame after deletion:\")\n",
    "print(df)\n"
   ]
  },
  {
   "cell_type": "markdown",
   "metadata": {},
   "source": [
    "Rename Column"
   ]
  },
  {
   "cell_type": "code",
   "execution_count": 36,
   "metadata": {},
   "outputs": [
    {
     "name": "stdout",
     "output_type": "stream",
     "text": [
      "Before renaming columns:\n",
      "    Id   Name  Age Grade\n",
      "0  001   jake    3     B\n",
      "1  002   jake   21     A\n",
      "2  003  rabia   21     B\n",
      "3  004   john   18     C\n",
      "\n",
      "After renaming columns:\n",
      "  StudentID StudentName  StudentAge StudentGrade\n",
      "0       001        jake           3            B\n",
      "1       002        jake          21            A\n",
      "2       003       rabia          21            B\n",
      "3       004        john          18            C\n"
     ]
    }
   ],
   "source": [
    "\n",
    "data = {\n",
    "    'Id': ['001', '002', '003', '004'],\n",
    "    'Name': ['jake', 'jake', 'rabia', 'john'],\n",
    "    'Age': [3, 21, 21, 18],\n",
    "    'Grade': ['B', 'A', 'B', 'C']\n",
    "}\n",
    "df = pd.DataFrame(data)\n",
    "\n",
    "\n",
    "print(\"Before renaming columns:\")\n",
    "print(df)\n",
    "\n",
    "\n",
    "df.rename(columns={'Id': 'StudentID', 'Name': 'StudentName', 'Age': 'StudentAge', 'Grade': 'StudentGrade'}, inplace=True)\n",
    "\n",
    "\n",
    "print(\"\\nAfter renaming columns:\")\n",
    "print(df)\n"
   ]
  }
 ],
 "metadata": {
  "kernelspec": {
   "display_name": "Python 3",
   "language": "python",
   "name": "python3"
  },
  "language_info": {
   "codemirror_mode": {
    "name": "ipython",
    "version": 3
   },
   "file_extension": ".py",
   "mimetype": "text/x-python",
   "name": "python",
   "nbconvert_exporter": "python",
   "pygments_lexer": "ipython3",
   "version": "3.12.2"
  }
 },
 "nbformat": 4,
 "nbformat_minor": 2
}
