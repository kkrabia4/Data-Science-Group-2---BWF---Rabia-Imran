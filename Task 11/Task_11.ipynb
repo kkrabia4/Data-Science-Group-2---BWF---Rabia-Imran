{
 "cells": [
  {
   "cell_type": "markdown",
   "metadata": {},
   "source": [
    "# Indexing \n"
   ]
  },
  {
   "cell_type": "markdown",
   "metadata": {},
   "source": [
    "Given a 2D array of shape (6, 6), extract a 2x2 sub-array starting from the element at position (1, 1)."
   ]
  },
  {
   "cell_type": "code",
   "execution_count": 2,
   "metadata": {},
   "outputs": [],
   "source": [
    "import numpy as np"
   ]
  },
  {
   "cell_type": "code",
   "execution_count": 3,
   "metadata": {},
   "outputs": [
    {
     "name": "stdout",
     "output_type": "stream",
     "text": [
      "Original 2D array (6x6):\n",
      " [[ 1  2  3  4  5  6]\n",
      " [ 7  8  9 10 11 12]\n",
      " [13 14 15 16 17 18]\n",
      " [19 20 21 22 23 24]\n",
      " [25 26 27 28 29 30]\n",
      " [31 32 33 34 35 36]]\n",
      "Extracted 2x2 sub-array:\n",
      " [[ 8  9]\n",
      " [14 15]]\n"
     ]
    }
   ],
   "source": [
    "array_2d_6x6 = np.arange(1, 37).reshape(6, 6)\n",
    "sub_array_2x2 = array_2d_6x6[1:3, 1:3]\n",
    "print(\"Original 2D array (6x6):\\n\", array_2d_6x6)\n",
    "print(\"Extracted 2x2 sub-array:\\n\", sub_array_2x2)"
   ]
  },
  {
   "cell_type": "markdown",
   "metadata": {},
   "source": [
    "From a 3D array of shape (3, 2, 1), extract all elements in the first two rows and all columns of the second slice along the third axis."
   ]
  },
  {
   "cell_type": "code",
   "execution_count": 4,
   "metadata": {},
   "outputs": [
    {
     "name": "stdout",
     "output_type": "stream",
     "text": [
      "Original 3D array (3, 2, 1):\n",
      " [[[1]\n",
      "  [2]]\n",
      "\n",
      " [[3]\n",
      "  [4]]\n",
      "\n",
      " [[5]\n",
      "  [6]]]\n",
      "Extracted elements:\n",
      " [[1 2]\n",
      " [3 4]]\n"
     ]
    }
   ],
   "source": [
    "array_3d = np.arange(1, 7).reshape(3, 2, 1)\n",
    "sub_array_3d = array_3d[:2, :, 0]\n",
    "print(\"Original 3D array (3, 2, 1):\\n\", array_3d)\n",
    "print(\"Extracted elements:\\n\", sub_array_3d)"
   ]
  },
  {
   "cell_type": "markdown",
   "metadata": {},
   "source": [
    "Given an array of integers, use fancy indexing to extract elements at positions [1, 3, 4, 6]."
   ]
  },
  {
   "cell_type": "code",
   "execution_count": 5,
   "metadata": {},
   "outputs": [
    {
     "name": "stdout",
     "output_type": "stream",
     "text": [
      "Array of integers: [0 1 2 3 4 5 6 7 8 9]\n",
      "Elements at positions [1, 3, 4, 6]: [1 3 4 6]\n"
     ]
    }
   ],
   "source": [
    "array_int = np.array([0, 1, 2, 3, 4, 5, 6, 7, 8, 9])\n",
    "fancy_indexing_result = array_int[[1, 3, 4, 6]]\n",
    "print(\"Array of integers:\", array_int)\n",
    "print(\"Elements at positions [1, 3, 4, 6]:\", fancy_indexing_result)"
   ]
  },
  {
   "cell_type": "markdown",
   "metadata": {},
   "source": [
    "Given a 2D array, use fancy indexing to select rows [0, 2, 2] and columns [1, 3].\n"
   ]
  },
  {
   "cell_type": "code",
   "execution_count": 6,
   "metadata": {},
   "outputs": [
    {
     "name": "stdout",
     "output_type": "stream",
     "text": [
      "Original 2D array:\n",
      " [[ 1  2  3  4]\n",
      " [ 5  6  7  8]\n",
      " [ 9 10 11 12]\n",
      " [13 14 15 16]]\n",
      "Selected elements using fancy indexing: [ 2 12 12]\n"
     ]
    }
   ],
   "source": [
    "array_2d_fancy = np.arange(1, 17).reshape(4, 4)\n",
    "fancy_indexing_2d_result = array_2d_fancy[[0, 2, 2], [1, 3, 3]]\n",
    "print(\"Original 2D array:\\n\", array_2d_fancy)\n",
    "print(\"Selected elements using fancy indexing:\", fancy_indexing_2d_result)"
   ]
  },
  {
   "cell_type": "markdown",
   "metadata": {},
   "source": [
    "From a 1D array of random integers, extract all elements that are greater than 8."
   ]
  },
  {
   "cell_type": "code",
   "execution_count": 7,
   "metadata": {},
   "outputs": [
    {
     "name": "stdout",
     "output_type": "stream",
     "text": [
      "Array of random integers: [ 9 13  8  6  7  8  7 19  5  1 14  3 17  6  7]\n",
      "Elements greater than 8: [ 9 13 19 14 17]\n"
     ]
    }
   ],
   "source": [
    "array_random_int = np.random.randint(1, 20, 15)\n",
    "greater_than_8 = array_random_int[array_random_int > 8]\n",
    "print(\"Array of random integers:\", array_random_int)\n",
    "print(\"Elements greater than 8:\", greater_than_8)"
   ]
  },
  {
   "cell_type": "markdown",
   "metadata": {},
   "source": [
    "Given a 2D array of shape (6, 6), replace all elements greater than 13 with the value 0."
   ]
  },
  {
   "cell_type": "code",
   "execution_count": 8,
   "metadata": {},
   "outputs": [
    {
     "name": "stdout",
     "output_type": "stream",
     "text": [
      "Original 2D array:\n",
      " [[ 0  0  1  4  0  9]\n",
      " [ 8  0  0  9  8  9]\n",
      " [ 0  2  0  0  4  3]\n",
      " [ 0  0  9 12 11  0]\n",
      " [ 0 12  0 11 10  7]\n",
      " [ 4 12  4 13  0  3]]\n",
      "Array after replacing elements greater than 13 with 0:\n",
      " [[ 0  0  1  4  0  9]\n",
      " [ 8  0  0  9  8  9]\n",
      " [ 0  2  0  0  4  3]\n",
      " [ 0  0  9 12 11  0]\n",
      " [ 0 12  0 11 10  7]\n",
      " [ 4 12  4 13  0  3]]\n"
     ]
    }
   ],
   "source": [
    "array_2d_replace = np.random.randint(1, 20, (6, 6))\n",
    "array_2d_replace[array_2d_replace > 13] = 0\n",
    "print(\"Original 2D array:\\n\", array_2d_replace)\n",
    "print(\"Array after replacing elements greater than 13 with 0:\\n\", array_2d_replace)"
   ]
  },
  {
   "cell_type": "markdown",
   "metadata": {},
   "source": [
    "# Broadcasting"
   ]
  },
  {
   "cell_type": "markdown",
   "metadata": {},
   "source": [
    "Add a 1D array of shape (3,) to each row of a 2D array of shape (4, 3)."
   ]
  },
  {
   "cell_type": "code",
   "execution_count": 9,
   "metadata": {},
   "outputs": [
    {
     "name": "stdout",
     "output_type": "stream",
     "text": [
      "1D array: [1 2 3]\n",
      "2D array:\n",
      " [[ 4  5  6]\n",
      " [ 7  8  9]\n",
      " [10 11 12]\n",
      " [13 14 15]]\n",
      "Result after broadcasting:\n",
      " [[ 5  7  9]\n",
      " [ 8 10 12]\n",
      " [11 13 15]\n",
      " [14 16 18]]\n"
     ]
    }
   ],
   "source": [
    "array_1d_broadcast = np.array([1, 2, 3])\n",
    "array_2d_broadcast = np.array([[4, 5, 6], [7, 8, 9], [10, 11, 12], [13, 14, 15]])\n",
    "broadcast_result = array_2d_broadcast + array_1d_broadcast\n",
    "print(\"1D array:\", array_1d_broadcast)\n",
    "print(\"2D array:\\n\", array_2d_broadcast)\n",
    "print(\"Result after broadcasting:\\n\", broadcast_result)"
   ]
  },
  {
   "cell_type": "markdown",
   "metadata": {},
   "source": [
    " Multiply a 2D array of shape (3, 3) by a 1D array of shape (3,)."
   ]
  },
  {
   "cell_type": "code",
   "execution_count": 10,
   "metadata": {},
   "outputs": [
    {
     "name": "stdout",
     "output_type": "stream",
     "text": [
      "2D array:\n",
      " [[1 2 3]\n",
      " [4 5 6]\n",
      " [7 8 9]]\n",
      "1D array: [2 4 6]\n",
      "Result after element-wise multiplication:\n",
      " [[ 2  8 18]\n",
      " [ 8 20 36]\n",
      " [14 32 54]]\n"
     ]
    }
   ],
   "source": [
    "array_2d_mult = np.array([[1, 2, 3], [4, 5, 6], [7, 8, 9]])\n",
    "array_1d_mult = np.array([2, 4, 6])\n",
    "mult_result = array_2d_mult * array_1d_mult\n",
    "print(\"2D array:\\n\", array_2d_mult)\n",
    "print(\"1D array:\", array_1d_mult)\n",
    "print(\"Result after element-wise multiplication:\\n\", mult_result)"
   ]
  },
  {
   "cell_type": "markdown",
   "metadata": {},
   "source": [
    "Create two 2D arrays of shapes (3, 1) and (1, 4) respectively, and perform element-wise addition."
   ]
  },
  {
   "cell_type": "code",
   "execution_count": 11,
   "metadata": {},
   "outputs": [
    {
     "name": "stdout",
     "output_type": "stream",
     "text": [
      "2D array (3, 1):\n",
      " [[1]\n",
      " [2]\n",
      " [3]]\n",
      "2D array (1, 4):\n",
      " [[10 20 30 40]]\n",
      "Result after element-wise addition:\n",
      " [[11 21 31 41]\n",
      " [12 22 32 42]\n",
      " [13 23 33 43]]\n"
     ]
    }
   ],
   "source": [
    "array_2d_3x1 = np.array([[1], [2], [3]])\n",
    "array_2d_1x4 = np.array([[10, 20, 30, 40]])\n",
    "elementwise_addition = array_2d_3x1 + array_2d_1x4\n",
    "print(\"2D array (3, 1):\\n\", array_2d_3x1)\n",
    "print(\"2D array (1, 4):\\n\", array_2d_1x4)\n",
    "print(\"Result after element-wise addition:\\n\", elementwise_addition)"
   ]
  },
  {
   "cell_type": "markdown",
   "metadata": {},
   "source": [
    "Given a 3D array of shape (2, 3, 4), add a 2D array of shape (3, 4) to each 2D slice along the first axis."
   ]
  },
  {
   "cell_type": "code",
   "execution_count": 12,
   "metadata": {},
   "outputs": [
    {
     "name": "stdout",
     "output_type": "stream",
     "text": [
      "3D array (2, 3, 4):\n",
      " [[[8 6 8 3]\n",
      "  [1 6 4 6]\n",
      "  [7 7 7 9]]\n",
      "\n",
      " [[7 4 1 9]\n",
      "  [2 4 7 1]\n",
      "  [5 7 3 8]]]\n",
      "2D array (3, 4):\n",
      " [[1 9 5 9]\n",
      " [2 4 8 3]\n",
      " [5 5 8 1]]\n",
      "Result after broadcasting to each 2D slice:\n",
      " [[[ 9 15 13 12]\n",
      "  [ 3 10 12  9]\n",
      "  [12 12 15 10]]\n",
      "\n",
      " [[ 8 13  6 18]\n",
      "  [ 4  8 15  4]\n",
      "  [10 12 11  9]]]\n"
     ]
    }
   ],
   "source": [
    "array_3d_broadcast = np.random.randint(1, 10, (2, 3, 4))\n",
    "array_2d_broadcast_3d = np.random.randint(1, 10, (3, 4))\n",
    "broadcast_result_3d = array_3d_broadcast + array_2d_broadcast_3d\n",
    "print(\"3D array (2, 3, 4):\\n\", array_3d_broadcast)\n",
    "print(\"2D array (3, 4):\\n\", array_2d_broadcast_3d)\n",
    "print(\"Result after broadcasting to each 2D slice:\\n\", broadcast_result_3d)"
   ]
  },
  {
   "cell_type": "markdown",
   "metadata": {},
   "source": [
    "Given a 2D array, use slicing to extract every second row and every second column, then add a 1D array to each row of the sliced array."
   ]
  },
  {
   "cell_type": "code",
   "execution_count": 13,
   "metadata": {},
   "outputs": [
    {
     "name": "stdout",
     "output_type": "stream",
     "text": [
      "Original 2D array:\n",
      " [[7 3 5 3 4 9]\n",
      " [9 5 6 8 7 5]\n",
      " [7 6 8 9 1 1]\n",
      " [3 9 2 2 2 6]\n",
      " [4 3 7 1 7 2]\n",
      " [1 1 5 6 4 1]]\n",
      "Sliced array (every second row and column):\n",
      " [[7 5 4]\n",
      " [7 8 1]\n",
      " [4 7 7]]\n",
      "1D array: [1 2 3]\n",
      "Result after addition:\n",
      " [[ 8  7  7]\n",
      " [ 8 10  4]\n",
      " [ 5  9 10]]\n"
     ]
    }
   ],
   "source": [
    "array_2d_more = np.random.randint(1, 10, (6, 6))\n",
    "sliced_array = array_2d_more[::2, ::2]\n",
    "array_1d_more = np.array([1, 2, 3])\n",
    "sliced_array_result = sliced_array + array_1d_more\n",
    "print(\"Original 2D array:\\n\", array_2d_more)\n",
    "print(\"Sliced array (every second row and column):\\n\", sliced_array)\n",
    "print(\"1D array:\", array_1d_more)\n",
    "print(\"Result after addition:\\n\", sliced_array_result)"
   ]
  },
  {
   "cell_type": "markdown",
   "metadata": {},
   "source": [
    "From a 3D array of shape (3, 2, 1), extract a sub-array using slicing and then use broadcasting to subtract a 2D array from each slice along the third axis."
   ]
  },
  {
   "cell_type": "code",
   "execution_count": 14,
   "metadata": {},
   "outputs": [
    {
     "name": "stdout",
     "output_type": "stream",
     "text": [
      "Original 3D array:\n",
      " [[[3]\n",
      "  [7]]\n",
      "\n",
      " [[8]\n",
      "  [6]]\n",
      "\n",
      " [[8]\n",
      "  [9]]]\n",
      "Sub-array using slicing:\n",
      " [[3 7]\n",
      " [8 6]\n",
      " [8 9]]\n",
      "2D array to subtract:\n",
      " [[1 2]\n",
      " [3 4]\n",
      " [5 6]]\n",
      "Result after broadcasting subtraction:\n",
      " [[2 5]\n",
      " [5 2]\n",
      " [3 3]]\n"
     ]
    }
   ],
   "source": [
    "array_3d_more = np.random.randint(1, 10, (3, 2, 1))\n",
    "sub_array_3d_more = array_3d_more[:, :, 0]\n",
    "array_2d_more_sub = np.array([[1, 2], [3, 4], [5, 6]])\n",
    "broadcast_sub_result = sub_array_3d_more - array_2d_more_sub\n",
    "print(\"Original 3D array:\\n\", array_3d_more)\n",
    "print(\"Sub-array using slicing:\\n\", sub_array_3d_more)\n",
    "print(\"2D array to subtract:\\n\", array_2d_more_sub)\n",
    "print(\"Result after broadcasting subtraction:\\n\", broadcast_sub_result)"
   ]
  },
  {
   "cell_type": "markdown",
   "metadata": {},
   "source": [
    "Given a 2D array, extract the diagonal elements and create a 1D array"
   ]
  },
  {
   "cell_type": "code",
   "execution_count": 15,
   "metadata": {},
   "outputs": [
    {
     "name": "stdout",
     "output_type": "stream",
     "text": [
      "Original 2D array:\n",
      " [[8 3 5 9 1]\n",
      " [7 4 6 1 7]\n",
      " [5 2 9 6 3]\n",
      " [6 6 4 6 1]\n",
      " [2 3 5 9 5]]\n",
      "Diagonal elements: [8 4 9 6 5]\n"
     ]
    }
   ],
   "source": [
    "array_2d_diag = np.random.randint(1, 10, (5, 5))\n",
    "diagonal_elements = np.diag(array_2d_diag)\n",
    "print(\"Original 2D array:\\n\", array_2d_diag)\n",
    "print(\"Diagonal elements:\", diagonal_elements)"
   ]
  },
  {
   "cell_type": "markdown",
   "metadata": {},
   "source": [
    "Use slicing to reverse the order of elements in each row of a 2D array."
   ]
  },
  {
   "cell_type": "code",
   "execution_count": 16,
   "metadata": {},
   "outputs": [
    {
     "name": "stdout",
     "output_type": "stream",
     "text": [
      "Original 2D array:\n",
      " [[3 5 2 4]\n",
      " [7 6 9 5]\n",
      " [4 7 1 7]\n",
      " [6 1 3 8]]\n",
      "Array with elements in each row reversed:\n",
      " [[4 2 5 3]\n",
      " [5 9 6 7]\n",
      " [7 1 7 4]\n",
      " [8 3 1 6]]\n"
     ]
    }
   ],
   "source": [
    "array_2d_reverse = np.random.randint(1, 10, (4, 4))\n",
    "reversed_array = array_2d_reverse[:, ::-1]\n",
    "print(\"Original 2D array:\\n\", array_2d_reverse)\n",
    "print(\"Array with elements in each row reversed:\\n\", reversed_array)"
   ]
  },
  {
   "cell_type": "markdown",
   "metadata": {},
   "source": [
    "Given a 3D array of shape (7, 6, 5), use slicing to extract a sub-array of shape (2, 3, 4) and then use broadcasting to add a 1D array of shape (4,) to each row along the third axis."
   ]
  },
  {
   "cell_type": "code",
   "execution_count": 17,
   "metadata": {},
   "outputs": [
    {
     "name": "stdout",
     "output_type": "stream",
     "text": [
      "Original 3D array (7, 6, 5):\n",
      " [[[5 9 2 4 6]\n",
      "  [6 5 4 9 7]\n",
      "  [1 5 6 1 3]\n",
      "  [1 8 1 8 2]\n",
      "  [2 6 8 8 4]\n",
      "  [1 9 1 5 8]]\n",
      "\n",
      " [[2 7 2 4 2]\n",
      "  [8 1 5 2 1]\n",
      "  [6 4 2 5 2]\n",
      "  [3 7 4 7 2]\n",
      "  [1 7 4 2 2]\n",
      "  [2 9 9 7 4]]\n",
      "\n",
      " [[8 6 6 5 2]\n",
      "  [1 1 9 4 7]\n",
      "  [6 2 8 6 6]\n",
      "  [1 4 5 2 6]\n",
      "  [8 3 1 6 7]\n",
      "  [4 8 5 5 5]]\n",
      "\n",
      " [[1 3 6 4 3]\n",
      "  [7 7 5 6 9]\n",
      "  [8 5 9 1 5]\n",
      "  [2 4 3 4 7]\n",
      "  [4 4 1 9 5]\n",
      "  [6 2 2 6 4]]\n",
      "\n",
      " [[9 6 4 7 8]\n",
      "  [6 8 9 4 2]\n",
      "  [2 3 8 7 6]\n",
      "  [1 4 9 9 7]\n",
      "  [4 7 8 3 5]\n",
      "  [9 1 6 6 9]]\n",
      "\n",
      " [[2 4 3 2 6]\n",
      "  [9 7 8 3 9]\n",
      "  [9 8 6 1 2]\n",
      "  [8 7 4 7 2]\n",
      "  [9 2 2 2 1]\n",
      "  [5 6 9 7 9]]\n",
      "\n",
      " [[9 2 1 3 1]\n",
      "  [5 3 8 8 1]\n",
      "  [8 2 6 1 9]\n",
      "  [5 4 6 2 9]\n",
      "  [3 3 2 9 6]\n",
      "  [9 1 3 6 4]]]\n",
      "Extracted sub-array (2, 3, 4):\n",
      " [[[5 9 2 4]\n",
      "  [6 5 4 9]\n",
      "  [1 5 6 1]]\n",
      "\n",
      " [[2 7 2 4]\n",
      "  [8 1 5 2]\n",
      "  [6 4 2 5]]]\n",
      "1D array to add: [1 2 3 4]\n",
      "Result after broadcasting addition:\n",
      " [[[ 6 11  5  8]\n",
      "  [ 7  7  7 13]\n",
      "  [ 2  7  9  5]]\n",
      "\n",
      " [[ 3  9  5  8]\n",
      "  [ 9  3  8  6]\n",
      "  [ 7  6  5  9]]]\n"
     ]
    }
   ],
   "source": [
    "array_3d_large = np.random.randint(1, 10, (7, 6, 5))\n",
    "sub_array_3d_large = array_3d_large[:2, :3, :4]\n",
    "array_1d_add_large = np.array([1, 2, 3, 4])\n",
    "broadcast_result_large = sub_array_3d_large + array_1d_add_large\n",
    "print(\"Original 3D array (7, 6, 5):\\n\", array_3d_large)\n",
    "print(\"Extracted sub-array (2, 3, 4):\\n\", sub_array_3d_large)\n",
    "print(\"1D array to add:\", array_1d_add_large)\n",
    "print(\"Result after broadcasting addition:\\n\", broadcast_result_large)"
   ]
  },
  {
   "cell_type": "markdown",
   "metadata": {},
   "source": [
    "Create a 2D array and use both slicing and broadcasting to set the last column to the sum of the first two columns for each row."
   ]
  },
  {
   "cell_type": "code",
   "execution_count": 18,
   "metadata": {},
   "outputs": [
    {
     "name": "stdout",
     "output_type": "stream",
     "text": [
      "Original 2D array:\n",
      " [[ 2  3  9  8  5]\n",
      " [ 2  6  5  6  8]\n",
      " [ 5  5  5  4 10]\n",
      " [ 3  5  6  8  8]\n",
      " [ 5  9  3  5 14]]\n",
      "Array after setting the last column to the sum of the first two columns:\n",
      " [[ 2  3  9  8  5]\n",
      " [ 2  6  5  6  8]\n",
      " [ 5  5  5  4 10]\n",
      " [ 3  5  6  8  8]\n",
      " [ 5  9  3  5 14]]\n"
     ]
    }
   ],
   "source": [
    "array_2d_sum_cols = np.random.randint(1, 10, (5, 5))\n",
    "array_2d_sum_cols[:, -1] = array_2d_sum_cols[:, 0] + array_2d_sum_cols[:, 1]\n",
    "print(\"Original 2D array:\\n\", array_2d_sum_cols)\n",
    "print(\"Array after setting the last column to the sum of the first two columns:\\n\", array_2d_sum_cols)"
   ]
  }
 ],
 "metadata": {
  "kernelspec": {
   "display_name": "Python 3",
   "language": "python",
   "name": "python3"
  },
  "language_info": {
   "codemirror_mode": {
    "name": "ipython",
    "version": 3
   },
   "file_extension": ".py",
   "mimetype": "text/x-python",
   "name": "python",
   "nbconvert_exporter": "python",
   "pygments_lexer": "ipython3",
   "version": "3.12.2"
  }
 },
 "nbformat": 4,
 "nbformat_minor": 2
}
