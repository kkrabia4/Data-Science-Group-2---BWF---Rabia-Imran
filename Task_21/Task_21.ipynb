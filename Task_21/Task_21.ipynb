{
 "cells": [
  {
   "cell_type": "markdown",
   "metadata": {},
   "source": [
    "# Task 21"
   ]
  },
  {
   "cell_type": "markdown",
   "metadata": {},
   "source": [
    "### Linear Algebra"
   ]
  },
  {
   "cell_type": "markdown",
   "metadata": {},
   "source": [
    "Create various types of matrices (zero matrix, identity matrix, random matrix)."
   ]
  },
  {
   "cell_type": "code",
   "execution_count": 3,
   "metadata": {},
   "outputs": [
    {
     "data": {
      "text/plain": [
       "(array([[0., 0., 0.],\n",
       "        [0., 0., 0.],\n",
       "        [0., 0., 0.]]),\n",
       " array([[1., 0., 0.],\n",
       "        [0., 1., 0.],\n",
       "        [0., 0., 1.]]),\n",
       " array([[0.23942733, 0.01227528, 0.06663231],\n",
       "        [0.24004925, 0.4328014 , 0.86619721],\n",
       "        [0.44255876, 0.77000249, 0.49859014]]))"
      ]
     },
     "execution_count": 3,
     "metadata": {},
     "output_type": "execute_result"
    }
   ],
   "source": [
    "import numpy as np\n",
    "\n",
    "# Zero matrix...\n",
    "zero_matrix = np.zeros((3, 3))\n",
    "\n",
    "# Identity matrix...\n",
    "identity_matrix = np.eye(3)\n",
    "\n",
    "# Random matrix...\n",
    "random_matrix = np.random.rand(3, 3)\n",
    "\n",
    "zero_matrix, identity_matrix, random_matrix\n"
   ]
  },
  {
   "cell_type": "markdown",
   "metadata": {},
   "source": [
    "Perform basic matrix operations (addition, subtraction, multiplication)"
   ]
  },
  {
   "cell_type": "code",
   "execution_count": 4,
   "metadata": {},
   "outputs": [
    {
     "data": {
      "text/plain": [
       "(array([[10, 10, 10],\n",
       "        [10, 10, 10],\n",
       "        [10, 10, 10]]),\n",
       " array([[-8, -6, -4],\n",
       "        [-2,  0,  2],\n",
       "        [ 4,  6,  8]]),\n",
       " array([[ 30,  24,  18],\n",
       "        [ 84,  69,  54],\n",
       "        [138, 114,  90]]))"
      ]
     },
     "execution_count": 4,
     "metadata": {},
     "output_type": "execute_result"
    }
   ],
   "source": [
    "matrix_a = np.array([[1, 2, 3], [4, 5, 6], [7, 8, 9]])\n",
    "matrix_b = np.array([[9, 8, 7], [6, 5, 4], [3, 2, 1]])\n",
    "\n",
    "# Addition...\n",
    "matrix_add = matrix_a + matrix_b\n",
    "\n",
    "# Subtraction...\n",
    "matrix_subtract = matrix_a - matrix_b\n",
    "\n",
    "# Multiplication...\n",
    "matrix_multiply = np.dot(matrix_a, matrix_b)\n",
    "\n",
    "matrix_add, matrix_subtract, matrix_multiply\n"
   ]
  },
  {
   "cell_type": "markdown",
   "metadata": {},
   "source": [
    "Transpose a matrix and find the determinant and inverse of a matrix."
   ]
  },
  {
   "cell_type": "code",
   "execution_count": 5,
   "metadata": {},
   "outputs": [
    {
     "data": {
      "text/plain": [
       "(array([[1, 3],\n",
       "        [2, 4]]),\n",
       " -2.0000000000000004,\n",
       " array([[-2. ,  1. ],\n",
       "        [ 1.5, -0.5]]))"
      ]
     },
     "execution_count": 5,
     "metadata": {},
     "output_type": "execute_result"
    }
   ],
   "source": [
    "matrix = np.array([[1, 2], [3, 4]])\n",
    "\n",
    "# Transpose...\n",
    "matrix_transpose = matrix.T\n",
    "\n",
    "# Determinant...\n",
    "matrix_determinant = np.linalg.det(matrix)\n",
    "\n",
    "# Inverse...\n",
    "matrix_inverse = np.linalg.inv(matrix)\n",
    "\n",
    "matrix_transpose, matrix_determinant, matrix_inverse\n"
   ]
  },
  {
   "cell_type": "markdown",
   "metadata": {},
   "source": [
    "### Solving Linear Equation \n"
   ]
  },
  {
   "cell_type": "markdown",
   "metadata": {},
   "source": [
    "Use NumPy to solve a system of linear equations."
   ]
  },
  {
   "cell_type": "code",
   "execution_count": 7,
   "metadata": {},
   "outputs": [
    {
     "data": {
      "text/plain": [
       "array([0.11111111, 2.44444444])"
      ]
     },
     "execution_count": 7,
     "metadata": {},
     "output_type": "execute_result"
    }
   ],
   "source": [
    "# System of equations:...\n",
    "# 6x + 3y = 8\n",
    "# 1x + 2y = 5\n",
    "\n",
    "coefficients = np.array([[6, 3], [1, 2]])\n",
    "constants = np.array([8, 5])\n",
    "\n",
    "solution = np.linalg.solve(coefficients, constants)\n",
    "solution\n"
   ]
  },
  {
   "cell_type": "markdown",
   "metadata": {},
   "source": [
    "Implement matrix factorization methods (LU decomposition, QR decomposition).\n",
    "python"
   ]
  },
  {
   "cell_type": "code",
   "execution_count": 8,
   "metadata": {},
   "outputs": [
    {
     "data": {
      "text/plain": [
       "(array([[-0.31622777, -0.9486833 ],\n",
       "        [-0.9486833 ,  0.31622777]]),\n",
       " array([[-3.16227766, -4.42718872],\n",
       "        [ 0.        , -0.63245553]]))"
      ]
     },
     "execution_count": 8,
     "metadata": {},
     "output_type": "execute_result"
    }
   ],
   "source": [
    "# LU Decomposition...\n",
    "from scipy.linalg import lu\n",
    "\n",
    "P, L, U = lu(matrix)\n",
    "P, L, U\n",
    "\n",
    "# QR Decomposition...\n",
    "Q, R = np.linalg.qr(matrix)\n",
    "Q, R\n"
   ]
  },
  {
   "cell_type": "markdown",
   "metadata": {},
   "source": [
    "### Eigenvalues and Eigenvectors"
   ]
  },
  {
   "cell_type": "markdown",
   "metadata": {},
   "source": [
    "Calculate the eigenvalues and eigenvectors of a given matrix."
   ]
  },
  {
   "cell_type": "code",
   "execution_count": 9,
   "metadata": {},
   "outputs": [
    {
     "data": {
      "text/plain": [
       "(array([-0.37228132,  5.37228132]),\n",
       " array([[-0.82456484, -0.41597356],\n",
       "        [ 0.56576746, -0.90937671]]))"
      ]
     },
     "execution_count": 9,
     "metadata": {},
     "output_type": "execute_result"
    }
   ],
   "source": [
    "eigenvalues, eigenvectors = np.linalg.eig(matrix)\n",
    "eigenvalues, eigenvectors\n"
   ]
  },
  {
   "cell_type": "markdown",
   "metadata": {},
   "source": [
    "Verify the results by reconstructing the original matrix."
   ]
  },
  {
   "cell_type": "code",
   "execution_count": 10,
   "metadata": {},
   "outputs": [
    {
     "data": {
      "text/plain": [
       "array([[1., 2.],\n",
       "       [3., 4.]])"
      ]
     },
     "execution_count": 10,
     "metadata": {},
     "output_type": "execute_result"
    }
   ],
   "source": [
    "# Reconstructing the original matrix...\n",
    "reconstructed_matrix = eigenvectors @ np.diag(eigenvalues) @ np.linalg.inv(eigenvectors)\n",
    "reconstructed_matrix\n"
   ]
  },
  {
   "cell_type": "markdown",
   "metadata": {},
   "source": [
    "### Vector Operation"
   ]
  },
  {
   "cell_type": "markdown",
   "metadata": {},
   "source": [
    "Perform basic vector operations (addition, dot product, cross product)."
   ]
  },
  {
   "cell_type": "code",
   "execution_count": 11,
   "metadata": {},
   "outputs": [
    {
     "data": {
      "text/plain": [
       "(array([5, 7, 9]), 32, array([-3,  6, -3]))"
      ]
     },
     "execution_count": 11,
     "metadata": {},
     "output_type": "execute_result"
    }
   ],
   "source": [
    "vector_a = np.array([1, 2, 3])\n",
    "vector_b = np.array([4, 5, 6])\n",
    "\n",
    "# Addition...\n",
    "vector_add = vector_a + vector_b\n",
    "\n",
    "# Dot product...\n",
    "vector_dot = np.dot(vector_a, vector_b)\n",
    "\n",
    "# Cross product...\n",
    "vector_cross = np.cross(vector_a, vector_b)\n",
    "\n",
    "vector_add, vector_dot, vector_cross\n"
   ]
  },
  {
   "cell_type": "markdown",
   "metadata": {},
   "source": [
    "Normalize a vector and compute vector norms"
   ]
  },
  {
   "cell_type": "code",
   "execution_count": 12,
   "metadata": {},
   "outputs": [
    {
     "data": {
      "text/plain": [
       "(array([0.26726124, 0.53452248, 0.80178373]), 6.0, 3.7416573867739413)"
      ]
     },
     "execution_count": 12,
     "metadata": {},
     "output_type": "execute_result"
    }
   ],
   "source": [
    "# Normalize a vector...\n",
    "vector_norm = np.linalg.norm(vector_a)\n",
    "vector_normalized = vector_a / vector_norm\n",
    "\n",
    "# Compute vector norms...\n",
    "vector_l1_norm = np.linalg.norm(vector_a, 1)\n",
    "vector_l2_norm = np.linalg.norm(vector_a, 2)\n",
    "\n",
    "vector_normalized, vector_l1_norm, vector_l2_norm\n"
   ]
  },
  {
   "cell_type": "markdown",
   "metadata": {},
   "source": [
    "### Matrix Decomposition"
   ]
  },
  {
   "cell_type": "markdown",
   "metadata": {},
   "source": [
    "Understand and implement Principal Component Analysis (PCA) using SVD."
   ]
  },
  {
   "cell_type": "code",
   "execution_count": 13,
   "metadata": {},
   "outputs": [
    {
     "data": {
      "text/plain": [
       "array([[ 0.4448852 , -0.17627238],\n",
       "       [-0.13060304,  0.50941549],\n",
       "       [ 0.397237  ,  0.20448738],\n",
       "       [-0.11658766, -0.32507829],\n",
       "       [-0.6412701 , -0.18367033],\n",
       "       [-0.2649743 ,  0.47173915],\n",
       "       [-0.10456362, -0.50120362],\n",
       "       [ 0.0194418 ,  0.09082298],\n",
       "       [-0.26375133, -0.04160518],\n",
       "       [ 0.66018604, -0.0486352 ]])"
      ]
     },
     "execution_count": 13,
     "metadata": {},
     "output_type": "execute_result"
    }
   ],
   "source": [
    "from sklearn.decomposition import PCA\n",
    "\n",
    "data = np.random.rand(10, 5)\n",
    "pca = PCA(n_components=2)\n",
    "pca_result = pca.fit_transform(data)\n",
    "\n",
    "pca_result\n"
   ]
  },
  {
   "cell_type": "markdown",
   "metadata": {},
   "source": [
    "## Calculus Tasks"
   ]
  },
  {
   "cell_type": "markdown",
   "metadata": {},
   "source": [
    "### Numerical Differentiation"
   ]
  },
  {
   "cell_type": "markdown",
   "metadata": {},
   "source": [
    "Use NumPy to compute the numerical derivative of a given function."
   ]
  },
  {
   "cell_type": "code",
   "execution_count": 14,
   "metadata": {},
   "outputs": [
    {
     "data": {
      "text/plain": [
       "array([-17.7979798 , -17.5959596 , -17.19191919, -16.78787879,\n",
       "       -16.38383838, -15.97979798, -15.57575758, -15.17171717,\n",
       "       -14.76767677, -14.36363636, -13.95959596, -13.55555556,\n",
       "       -13.15151515, -12.74747475, -12.34343434, -11.93939394,\n",
       "       -11.53535354, -11.13131313, -10.72727273, -10.32323232,\n",
       "        -9.91919192,  -9.51515152,  -9.11111111,  -8.70707071,\n",
       "        -8.3030303 ,  -7.8989899 ,  -7.49494949,  -7.09090909,\n",
       "        -6.68686869,  -6.28282828,  -5.87878788,  -5.47474747,\n",
       "        -5.07070707,  -4.66666667,  -4.26262626,  -3.85858586,\n",
       "        -3.45454545,  -3.05050505,  -2.64646465,  -2.24242424,\n",
       "        -1.83838384,  -1.43434343,  -1.03030303,  -0.62626263,\n",
       "        -0.22222222,   0.18181818,   0.58585859,   0.98989899,\n",
       "         1.39393939,   1.7979798 ,   2.2020202 ,   2.60606061,\n",
       "         3.01010101,   3.41414141,   3.81818182,   4.22222222,\n",
       "         4.62626263,   5.03030303,   5.43434343,   5.83838384,\n",
       "         6.24242424,   6.64646465,   7.05050505,   7.45454545,\n",
       "         7.85858586,   8.26262626,   8.66666667,   9.07070707,\n",
       "         9.47474747,   9.87878788,  10.28282828,  10.68686869,\n",
       "        11.09090909,  11.49494949,  11.8989899 ,  12.3030303 ,\n",
       "        12.70707071,  13.11111111,  13.51515152,  13.91919192,\n",
       "        14.32323232,  14.72727273,  15.13131313,  15.53535354,\n",
       "        15.93939394,  16.34343434,  16.74747475,  17.15151515,\n",
       "        17.55555556,  17.95959596,  18.36363636,  18.76767677,\n",
       "        19.17171717,  19.57575758,  19.97979798,  20.38383838,\n",
       "        20.78787879,  21.19191919,  21.5959596 ,  21.7979798 ])"
      ]
     },
     "execution_count": 14,
     "metadata": {},
     "output_type": "execute_result"
    }
   ],
   "source": [
    "def f(x):\n",
    "    return x**2 + 2*x + 1\n",
    "\n",
    "x = np.linspace(-10, 10, 100)\n",
    "y = f(x)\n",
    "\n",
    "# Numerical derivative using central difference...\n",
    "dx = x[1] - x[0]\n",
    "dy = np.gradient(y, dx)\n",
    "\n",
    "dy\n"
   ]
  },
  {
   "cell_type": "markdown",
   "metadata": {},
   "source": [
    "Implement forward, backward, and central difference methods for differentiation."
   ]
  },
  {
   "cell_type": "code",
   "execution_count": 15,
   "metadata": {},
   "outputs": [
    {
     "data": {
      "text/plain": [
       "(array([-17.99999   , -17.59594959, -17.19190919, -16.78786879,\n",
       "        -16.38382838, -15.97978798, -15.57574757, -15.17170717,\n",
       "        -14.76766677, -14.36362636, -13.95958596, -13.55554556,\n",
       "        -13.15150515, -12.74746475, -12.34342434, -11.93938394,\n",
       "        -11.53534353, -11.13130313, -10.72726273, -10.32322232,\n",
       "         -9.91918192,  -9.51514152,  -9.11110111,  -8.70706071,\n",
       "         -8.3030203 ,  -7.8989799 ,  -7.49493949,  -7.09089909,\n",
       "         -6.68685869,  -6.28281828,  -5.87877788,  -5.47473747,\n",
       "         -5.07069707,  -4.66665667,  -4.26261626,  -3.85857586,\n",
       "         -3.45453545,  -3.05049505,  -2.64645465,  -2.24241424,\n",
       "         -1.83837384,  -1.43433343,  -1.03029303,  -0.62625263,\n",
       "         -0.22221222,   0.18182818,   0.58586859,   0.98990899,\n",
       "          1.39394939,   1.7979898 ,   2.2020302 ,   2.60607061,\n",
       "          3.01011101,   3.41415141,   3.81819182,   4.22223222,\n",
       "          4.62627263,   5.03031303,   5.43435343,   5.83839384,\n",
       "          6.24243424,   6.64647465,   7.05051505,   7.45455545,\n",
       "          7.85859586,   8.26263626,   8.66667667,   9.07071707,\n",
       "          9.47475747,   9.87879788,  10.28283828,  10.68687869,\n",
       "         11.09091909,  11.49495949,  11.8989999 ,  12.3030403 ,\n",
       "         12.70708071,  13.11112111,  13.51516151,  13.91920192,\n",
       "         14.32324232,  14.72728273,  15.13132313,  15.53536353,\n",
       "         15.93940394,  16.34344434,  16.74748475,  17.15152515,\n",
       "         17.55556555,  17.95960596,  18.36364636,  18.76768677,\n",
       "         19.17172717,  19.57576757,  19.97980798,  20.38384838,\n",
       "         20.78788879,  21.19192919,  21.5959696 ,  22.00001   ]),\n",
       " array([-18.00001   , -17.5959696 , -17.19192919, -16.78788879,\n",
       "        -16.38384838, -15.97980798, -15.57576758, -15.17172717,\n",
       "        -14.76768677, -14.36364636, -13.95960596, -13.55556556,\n",
       "        -13.15152515, -12.74748475, -12.34344434, -11.93940394,\n",
       "        -11.53536354, -11.13132313, -10.72728273, -10.32324232,\n",
       "         -9.91920192,  -9.51516151,  -9.11112111,  -8.70708071,\n",
       "         -8.3030403 ,  -7.8989999 ,  -7.49495949,  -7.09091909,\n",
       "         -6.68687869,  -6.28283828,  -5.87879788,  -5.47475747,\n",
       "         -5.07071707,  -4.66667667,  -4.26263626,  -3.85859586,\n",
       "         -3.45455545,  -3.05051505,  -2.64647465,  -2.24243424,\n",
       "         -1.83839384,  -1.43435343,  -1.03031303,  -0.62627263,\n",
       "         -0.22223222,   0.18180818,   0.58584859,   0.98988899,\n",
       "          1.39392939,   1.7979698 ,   2.2020102 ,   2.60605061,\n",
       "          3.01009101,   3.41413141,   3.81817182,   4.22221222,\n",
       "          4.62625263,   5.03029303,   5.43433343,   5.83837384,\n",
       "          6.24241424,   6.64645465,   7.05049505,   7.45453545,\n",
       "          7.85857586,   8.26261626,   8.66665667,   9.07069707,\n",
       "          9.47473747,   9.87877788,  10.28281828,  10.68685869,\n",
       "         11.09089909,  11.49493949,  11.8989799 ,  12.3030203 ,\n",
       "         12.70706071,  13.11110111,  13.51514152,  13.91918192,\n",
       "         14.32322232,  14.72726273,  15.13130313,  15.53534353,\n",
       "         15.93938394,  16.34342434,  16.74746475,  17.15150515,\n",
       "         17.55554555,  17.95958596,  18.36362636,  18.76766677,\n",
       "         19.17170717,  19.57574758,  19.97978798,  20.38382838,\n",
       "         20.78786879,  21.19190919,  21.59594959,  21.99999   ]),\n",
       " array([-18.        , -17.59595959, -17.19191919, -16.78787879,\n",
       "        -16.38383838, -15.97979798, -15.57575758, -15.17171717,\n",
       "        -14.76767677, -14.36363636, -13.95959596, -13.55555556,\n",
       "        -13.15151515, -12.74747475, -12.34343434, -11.93939394,\n",
       "        -11.53535353, -11.13131313, -10.72727273, -10.32323232,\n",
       "         -9.91919192,  -9.51515151,  -9.11111111,  -8.70707071,\n",
       "         -8.3030303 ,  -7.8989899 ,  -7.49494949,  -7.09090909,\n",
       "         -6.68686869,  -6.28282828,  -5.87878788,  -5.47474747,\n",
       "         -5.07070707,  -4.66666667,  -4.26262626,  -3.85858586,\n",
       "         -3.45454545,  -3.05050505,  -2.64646465,  -2.24242424,\n",
       "         -1.83838384,  -1.43434343,  -1.03030303,  -0.62626263,\n",
       "         -0.22222222,   0.18181818,   0.58585859,   0.98989899,\n",
       "          1.39393939,   1.7979798 ,   2.2020202 ,   2.60606061,\n",
       "          3.01010101,   3.41414141,   3.81818182,   4.22222222,\n",
       "          4.62626263,   5.03030303,   5.43434343,   5.83838384,\n",
       "          6.24242424,   6.64646465,   7.05050505,   7.45454545,\n",
       "          7.85858586,   8.26262626,   8.66666667,   9.07070707,\n",
       "          9.47474747,   9.87878788,  10.28282828,  10.68686869,\n",
       "         11.09090909,  11.49494949,  11.8989899 ,  12.3030303 ,\n",
       "         12.70707071,  13.11111111,  13.51515151,  13.91919192,\n",
       "         14.32323232,  14.72727273,  15.13131313,  15.53535353,\n",
       "         15.93939394,  16.34343434,  16.74747475,  17.15151515,\n",
       "         17.55555555,  17.95959596,  18.36363636,  18.76767677,\n",
       "         19.17171717,  19.57575758,  19.97979798,  20.38383838,\n",
       "         20.78787879,  21.19191919,  21.59595959,  22.        ]))"
      ]
     },
     "execution_count": 15,
     "metadata": {},
     "output_type": "execute_result"
    }
   ],
   "source": [
    "# Forward difference...\n",
    "def forward_difference(f, x, h=1e-5):\n",
    "    return (f(x + h) - f(x)) / h\n",
    "\n",
    "# Backward difference...\n",
    "def backward_difference(f, x, h=1e-5):\n",
    "    return (f(x) - f(x - h)) / h\n",
    "\n",
    "# Central difference...\n",
    "def central_difference(f, x, h=1e-5):\n",
    "    return (f(x + h) - f(x - h)) / (2 * h)\n",
    "\n",
    "forward_diff = forward_difference(f, x)\n",
    "backward_diff = backward_difference(f, x)\n",
    "central_diff = central_difference(f, x)\n",
    "\n",
    "forward_diff, backward_diff, central_diff\n"
   ]
  },
  {
   "cell_type": "markdown",
   "metadata": {},
   "source": [
    "### Numerical Integration"
   ]
  },
  {
   "cell_type": "markdown",
   "metadata": {},
   "source": [
    "Use NumPy to compute the numerical integral of a given function."
   ]
  },
  {
   "cell_type": "code",
   "execution_count": 16,
   "metadata": {},
   "outputs": [
    {
     "data": {
      "text/plain": [
       "-4.163336342344337e-17"
      ]
     },
     "execution_count": 16,
     "metadata": {},
     "output_type": "execute_result"
    }
   ],
   "source": [
    "def g(x):\n",
    "    return np.sin(x)\n",
    "\n",
    "# Numerical integration using trapezoidal rule...\n",
    "integral_trapezoidal = np.trapz(g(x), x)\n",
    "\n",
    "integral_trapezoidal\n"
   ]
  },
  {
   "cell_type": "markdown",
   "metadata": {},
   "source": [
    "Implement the trapezoidal rule and Simpson's rule for integration."
   ]
  },
  {
   "cell_type": "code",
   "execution_count": 17,
   "metadata": {},
   "outputs": [
    {
     "name": "stderr",
     "output_type": "stream",
     "text": [
      "C:\\Users\\kkrab\\AppData\\Local\\Temp\\ipykernel_11320\\1289110512.py:13: DeprecationWarning: 'scipy.integrate.simps' is deprecated in favour of 'scipy.integrate.simpson' and will be removed in SciPy 1.14.0\n",
      "  return simps(y, x)\n"
     ]
    },
    {
     "data": {
      "text/plain": [
       "(1.9998321638939927, 2.0000000534993037)"
      ]
     },
     "execution_count": 17,
     "metadata": {},
     "output_type": "execute_result"
    }
   ],
   "source": [
    "from scipy.integrate import simps\n",
    "\n",
    "# Trapezoidal rule...\n",
    "def trapezoidal_rule(f, a, b, n):\n",
    "    x = np.linspace(a, b, n)\n",
    "    y = f(x)\n",
    "    return np.trapz(y, x)\n",
    "\n",
    "# Simpson's rule...\n",
    "def simpsons_rule(f, a, b, n):\n",
    "    x = np.linspace(a, b, n)\n",
    "    y = f(x)\n",
    "    return simps(y, x)\n",
    "\n",
    "a, b, n = 0, np.pi, 100\n",
    "\n",
    "trapezoidal_result = trapezoidal_rule(g, a, b, n)\n",
    "simpsons_result = simpsons_rule(g, a, b, n)\n",
    "\n",
    "trapezoidal_result, simpsons_result\n"
   ]
  },
  {
   "cell_type": "markdown",
   "metadata": {},
   "source": [
    "### Partial Derivatives"
   ]
  },
  {
   "cell_type": "markdown",
   "metadata": {},
   "source": [
    "Calculate partial derivatives of multivariable functions using NumPy."
   ]
  },
  {
   "cell_type": "code",
   "execution_count": 18,
   "metadata": {},
   "outputs": [
    {
     "data": {
      "text/plain": [
       "(2.0000000000131024, 4.000000000026205)"
      ]
     },
     "execution_count": 18,
     "metadata": {},
     "output_type": "execute_result"
    }
   ],
   "source": [
    "def h(x, y):\n",
    "    return x**2 + y**2\n",
    "\n",
    "def partial_x(f, x, y, h=1e-5):\n",
    "    return (f(x + h, y) - f(x - h, y)) / (2 * h)\n",
    "\n",
    "def partial_y(f, x, y, h=1e-5):\n",
    "    return (f(x, y + h) - f(x, y - h)) / (2 * h)\n",
    "\n",
    "x_val, y_val = 1.0, 2.0\n",
    "partial_x_val = partial_x(h, x_val, y_val)\n",
    "partial_y_val = partial_y(h, x_val, y_val)\n",
    "\n",
    "partial_x_val, partial_y_val\n"
   ]
  },
  {
   "cell_type": "markdown",
   "metadata": {},
   "source": [
    "Verify results by comparing with analytical solutions."
   ]
  },
  {
   "cell_type": "code",
   "execution_count": 19,
   "metadata": {},
   "outputs": [
    {
     "data": {
      "text/plain": [
       "((<function __main__.partial_x(f, x, y, h=1e-05)>, 2),\n",
       " (<function __main__.partial_y(f, x, y, h=1e-05)>, 4))"
      ]
     },
     "execution_count": 19,
     "metadata": {},
     "output_type": "execute_result"
    }
   ],
   "source": [
    "analytical_partial_x = 2 * 1\n",
    "analytical_partial_y = 2 * 2\n",
    "\n",
    "(partial_x, analytical_partial_x), (partial_y, analytical_partial_y)\n"
   ]
  },
  {
   "cell_type": "markdown",
   "metadata": {},
   "source": [
    "### Optimization"
   ]
  },
  {
   "cell_type": "markdown",
   "metadata": {},
   "source": [
    "Use NumPy to solve optimization problems with constraints.\n"
   ]
  },
  {
   "cell_type": "code",
   "execution_count": 20,
   "metadata": {},
   "outputs": [
    {
     "data": {
      "text/plain": [
       "array([0.5, 0.5])"
      ]
     },
     "execution_count": 20,
     "metadata": {},
     "output_type": "execute_result"
    }
   ],
   "source": [
    "from scipy.optimize import minimize\n",
    "\n",
    "# Objective function...\n",
    "def objective(x):\n",
    "    return x[0]**2 + x[1]**2\n",
    "\n",
    "# Constraints....\n",
    "cons = ({'type': 'eq', 'fun': lambda x: x[0] + x[1] - 1})\n",
    "\n",
    "# Initial guess...\n",
    "x0 = [0.5, 0.5]\n",
    "\n",
    "# Solve optimization...\n",
    "result = minimize(objective, x0, constraints=cons)\n",
    "\n",
    "result.x\n"
   ]
  }
 ],
 "metadata": {
  "kernelspec": {
   "display_name": "Python 3",
   "language": "python",
   "name": "python3"
  },
  "language_info": {
   "codemirror_mode": {
    "name": "ipython",
    "version": 3
   },
   "file_extension": ".py",
   "mimetype": "text/x-python",
   "name": "python",
   "nbconvert_exporter": "python",
   "pygments_lexer": "ipython3",
   "version": "3.12.2"
  }
 },
 "nbformat": 4,
 "nbformat_minor": 2
}
